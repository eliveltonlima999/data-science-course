{
 "cells": [
  {
   "cell_type": "markdown",
   "metadata": {},
   "source": [
    "# Índice <a name=\"Contents\"></a>\n",
    "1. [Importando bibliotecas](#import)\n",
    "2. [Construindo um dataframe](#read)\n",
    "3. [Renomeando colunas](#colunas)\n",
    "4. [Renomeando índices](#indices)\n"
   ]
  },
  {
   "cell_type": "markdown",
   "metadata": {},
   "source": [
    "# 1. Importando bibliotecas <a name=\"import\"></a>\n",
    "\n",
    "<div style=\"text-align: right\"\n",
    "     \n",
    "[Voltar ao índice](#Contents)"
   ]
  },
  {
   "cell_type": "code",
   "execution_count": 1,
   "metadata": {
    "ExecuteTime": {
     "end_time": "2021-05-29T14:18:04.136132Z",
     "start_time": "2021-05-29T14:18:03.798217Z"
    }
   },
   "outputs": [],
   "source": [
    "import pandas as pd\n",
    "import numpy  as np"
   ]
  },
  {
   "cell_type": "markdown",
   "metadata": {},
   "source": [
    "# 2. Construindo um dataframe <a name=\"read\"></a>\n",
    "<div style=\"text-align: right\"\n",
    "     \n",
    "[Voltar ao índice](#Contents)"
   ]
  },
  {
   "cell_type": "code",
   "execution_count": 2,
   "metadata": {
    "ExecuteTime": {
     "end_time": "2021-05-29T14:23:40.062246Z",
     "start_time": "2021-05-29T14:23:40.048255Z"
    }
   },
   "outputs": [
    {
     "data": {
      "text/html": [
       "<div>\n",
       "<style scoped>\n",
       "    .dataframe tbody tr th:only-of-type {\n",
       "        vertical-align: middle;\n",
       "    }\n",
       "\n",
       "    .dataframe tbody tr th {\n",
       "        vertical-align: top;\n",
       "    }\n",
       "\n",
       "    .dataframe thead th {\n",
       "        text-align: right;\n",
       "    }\n",
       "</style>\n",
       "<table border=\"1\" class=\"dataframe\">\n",
       "  <thead>\n",
       "    <tr style=\"text-align: right;\">\n",
       "      <th></th>\n",
       "      <th>coluna1</th>\n",
       "      <th>coluna2</th>\n",
       "      <th>coluna3</th>\n",
       "      <th>coluna4</th>\n",
       "    </tr>\n",
       "  </thead>\n",
       "  <tbody>\n",
       "    <tr>\n",
       "      <th>A</th>\n",
       "      <td>35.899765</td>\n",
       "      <td>121.645616</td>\n",
       "      <td>83.245748</td>\n",
       "      <td>-40.689932</td>\n",
       "    </tr>\n",
       "    <tr>\n",
       "      <th>B</th>\n",
       "      <td>-28.942342</td>\n",
       "      <td>0.910653</td>\n",
       "      <td>131.529298</td>\n",
       "      <td>0.574730</td>\n",
       "    </tr>\n",
       "    <tr>\n",
       "      <th>C</th>\n",
       "      <td>-211.023795</td>\n",
       "      <td>142.667445</td>\n",
       "      <td>40.132214</td>\n",
       "      <td>-42.922510</td>\n",
       "    </tr>\n",
       "    <tr>\n",
       "      <th>D</th>\n",
       "      <td>-177.472858</td>\n",
       "      <td>-22.790317</td>\n",
       "      <td>34.550542</td>\n",
       "      <td>31.572081</td>\n",
       "    </tr>\n",
       "    <tr>\n",
       "      <th>E</th>\n",
       "      <td>-175.681271</td>\n",
       "      <td>114.272777</td>\n",
       "      <td>107.440121</td>\n",
       "      <td>-55.283781</td>\n",
       "    </tr>\n",
       "    <tr>\n",
       "      <th>F</th>\n",
       "      <td>-164.829198</td>\n",
       "      <td>102.480764</td>\n",
       "      <td>101.208344</td>\n",
       "      <td>-90.739390</td>\n",
       "    </tr>\n",
       "    <tr>\n",
       "      <th>G</th>\n",
       "      <td>-81.942642</td>\n",
       "      <td>38.538632</td>\n",
       "      <td>-158.376336</td>\n",
       "      <td>-152.693871</td>\n",
       "    </tr>\n",
       "    <tr>\n",
       "      <th>H</th>\n",
       "      <td>61.467289</td>\n",
       "      <td>71.234551</td>\n",
       "      <td>-111.535957</td>\n",
       "      <td>115.805618</td>\n",
       "    </tr>\n",
       "    <tr>\n",
       "      <th>I</th>\n",
       "      <td>46.339910</td>\n",
       "      <td>7.290166</td>\n",
       "      <td>-72.013718</td>\n",
       "      <td>-58.359624</td>\n",
       "    </tr>\n",
       "  </tbody>\n",
       "</table>\n",
       "</div>"
      ],
      "text/plain": [
       "      coluna1     coluna2     coluna3     coluna4\n",
       "A   35.899765  121.645616   83.245748  -40.689932\n",
       "B  -28.942342    0.910653  131.529298    0.574730\n",
       "C -211.023795  142.667445   40.132214  -42.922510\n",
       "D -177.472858  -22.790317   34.550542   31.572081\n",
       "E -175.681271  114.272777  107.440121  -55.283781\n",
       "F -164.829198  102.480764  101.208344  -90.739390\n",
       "G  -81.942642   38.538632 -158.376336 -152.693871\n",
       "H   61.467289   71.234551 -111.535957  115.805618\n",
       "I   46.339910    7.290166  -72.013718  -58.359624"
      ]
     },
     "execution_count": 2,
     "metadata": {},
     "output_type": "execute_result"
    }
   ],
   "source": [
    "df = pd.DataFrame(\n",
    "    np.random.randn(9, 4)*100,\n",
    "    index=[\"A\", \"B\", \"C\", \"D\", \"E\", \"F\", \"G\", \"H\", \"I\"],\n",
    "    columns=[\"coluna1\", \"coluna2\", \"coluna3\",\"coluna4\"],\n",
    ")\n",
    "df"
   ]
  },
  {
   "cell_type": "markdown",
   "metadata": {},
   "source": [
    "# 3. Renomeando colunas <a name=\"colunas\"></a>\n",
    "<div style=\"text-align: right\"\n",
    "     \n",
    "[Voltar ao índice](#Contents)"
   ]
  },
  {
   "cell_type": "code",
   "execution_count": 3,
   "metadata": {
    "ExecuteTime": {
     "end_time": "2021-05-29T14:23:54.029190Z",
     "start_time": "2021-05-29T14:23:54.019195Z"
    }
   },
   "outputs": [
    {
     "data": {
      "text/plain": [
       "Index(['coluna1', 'coluna2', 'coluna3', 'coluna4'], dtype='object')"
      ]
     },
     "execution_count": 3,
     "metadata": {},
     "output_type": "execute_result"
    }
   ],
   "source": [
    "df.columns"
   ]
  },
  {
   "cell_type": "code",
   "execution_count": 4,
   "metadata": {
    "ExecuteTime": {
     "end_time": "2021-05-29T14:25:02.422780Z",
     "start_time": "2021-05-29T14:25:02.404790Z"
    }
   },
   "outputs": [],
   "source": [
    "df.columns = ['segunda', 'terça', 'quarta', 'quinta']"
   ]
  },
  {
   "cell_type": "code",
   "execution_count": 5,
   "metadata": {
    "ExecuteTime": {
     "end_time": "2021-05-29T14:25:07.787193Z",
     "start_time": "2021-05-29T14:25:07.777200Z"
    }
   },
   "outputs": [
    {
     "data": {
      "text/plain": [
       "Index(['segunda', 'terça', 'quarta', 'quinta'], dtype='object')"
      ]
     },
     "execution_count": 5,
     "metadata": {},
     "output_type": "execute_result"
    }
   ],
   "source": [
    "df.columns"
   ]
  },
  {
   "cell_type": "code",
   "execution_count": 6,
   "metadata": {
    "ExecuteTime": {
     "end_time": "2021-05-29T14:25:10.544938Z",
     "start_time": "2021-05-29T14:25:10.535941Z"
    }
   },
   "outputs": [
    {
     "data": {
      "text/html": [
       "<div>\n",
       "<style scoped>\n",
       "    .dataframe tbody tr th:only-of-type {\n",
       "        vertical-align: middle;\n",
       "    }\n",
       "\n",
       "    .dataframe tbody tr th {\n",
       "        vertical-align: top;\n",
       "    }\n",
       "\n",
       "    .dataframe thead th {\n",
       "        text-align: right;\n",
       "    }\n",
       "</style>\n",
       "<table border=\"1\" class=\"dataframe\">\n",
       "  <thead>\n",
       "    <tr style=\"text-align: right;\">\n",
       "      <th></th>\n",
       "      <th>segunda</th>\n",
       "      <th>terça</th>\n",
       "      <th>quarta</th>\n",
       "      <th>quinta</th>\n",
       "    </tr>\n",
       "  </thead>\n",
       "  <tbody>\n",
       "    <tr>\n",
       "      <th>A</th>\n",
       "      <td>35.899765</td>\n",
       "      <td>121.645616</td>\n",
       "      <td>83.245748</td>\n",
       "      <td>-40.689932</td>\n",
       "    </tr>\n",
       "    <tr>\n",
       "      <th>B</th>\n",
       "      <td>-28.942342</td>\n",
       "      <td>0.910653</td>\n",
       "      <td>131.529298</td>\n",
       "      <td>0.574730</td>\n",
       "    </tr>\n",
       "    <tr>\n",
       "      <th>C</th>\n",
       "      <td>-211.023795</td>\n",
       "      <td>142.667445</td>\n",
       "      <td>40.132214</td>\n",
       "      <td>-42.922510</td>\n",
       "    </tr>\n",
       "    <tr>\n",
       "      <th>D</th>\n",
       "      <td>-177.472858</td>\n",
       "      <td>-22.790317</td>\n",
       "      <td>34.550542</td>\n",
       "      <td>31.572081</td>\n",
       "    </tr>\n",
       "    <tr>\n",
       "      <th>E</th>\n",
       "      <td>-175.681271</td>\n",
       "      <td>114.272777</td>\n",
       "      <td>107.440121</td>\n",
       "      <td>-55.283781</td>\n",
       "    </tr>\n",
       "    <tr>\n",
       "      <th>F</th>\n",
       "      <td>-164.829198</td>\n",
       "      <td>102.480764</td>\n",
       "      <td>101.208344</td>\n",
       "      <td>-90.739390</td>\n",
       "    </tr>\n",
       "    <tr>\n",
       "      <th>G</th>\n",
       "      <td>-81.942642</td>\n",
       "      <td>38.538632</td>\n",
       "      <td>-158.376336</td>\n",
       "      <td>-152.693871</td>\n",
       "    </tr>\n",
       "    <tr>\n",
       "      <th>H</th>\n",
       "      <td>61.467289</td>\n",
       "      <td>71.234551</td>\n",
       "      <td>-111.535957</td>\n",
       "      <td>115.805618</td>\n",
       "    </tr>\n",
       "    <tr>\n",
       "      <th>I</th>\n",
       "      <td>46.339910</td>\n",
       "      <td>7.290166</td>\n",
       "      <td>-72.013718</td>\n",
       "      <td>-58.359624</td>\n",
       "    </tr>\n",
       "  </tbody>\n",
       "</table>\n",
       "</div>"
      ],
      "text/plain": [
       "      segunda       terça      quarta      quinta\n",
       "A   35.899765  121.645616   83.245748  -40.689932\n",
       "B  -28.942342    0.910653  131.529298    0.574730\n",
       "C -211.023795  142.667445   40.132214  -42.922510\n",
       "D -177.472858  -22.790317   34.550542   31.572081\n",
       "E -175.681271  114.272777  107.440121  -55.283781\n",
       "F -164.829198  102.480764  101.208344  -90.739390\n",
       "G  -81.942642   38.538632 -158.376336 -152.693871\n",
       "H   61.467289   71.234551 -111.535957  115.805618\n",
       "I   46.339910    7.290166  -72.013718  -58.359624"
      ]
     },
     "execution_count": 6,
     "metadata": {},
     "output_type": "execute_result"
    }
   ],
   "source": [
    "df"
   ]
  },
  {
   "cell_type": "markdown",
   "metadata": {},
   "source": [
    "# 4. Renomeando índices <a name=\"indices\"></a>\n",
    "<div style=\"text-align: right\"\n",
    "     \n",
    "[Voltar ao índice](#Contents)"
   ]
  },
  {
   "cell_type": "code",
   "execution_count": 7,
   "metadata": {},
   "outputs": [],
   "source": [
    "df['coluna5'] = ['letraA','letraB','letraC','letraD','letraE','letraF','letraG','letraH','letraI']"
   ]
  },
  {
   "cell_type": "code",
   "execution_count": 8,
   "metadata": {
    "ExecuteTime": {
     "end_time": "2021-05-29T14:21:17.731165Z",
     "start_time": "2021-05-29T14:21:17.716176Z"
    }
   },
   "outputs": [
    {
     "data": {
      "text/html": [
       "<div>\n",
       "<style scoped>\n",
       "    .dataframe tbody tr th:only-of-type {\n",
       "        vertical-align: middle;\n",
       "    }\n",
       "\n",
       "    .dataframe tbody tr th {\n",
       "        vertical-align: top;\n",
       "    }\n",
       "\n",
       "    .dataframe thead th {\n",
       "        text-align: right;\n",
       "    }\n",
       "</style>\n",
       "<table border=\"1\" class=\"dataframe\">\n",
       "  <thead>\n",
       "    <tr style=\"text-align: right;\">\n",
       "      <th></th>\n",
       "      <th>segunda</th>\n",
       "      <th>terça</th>\n",
       "      <th>quarta</th>\n",
       "      <th>quinta</th>\n",
       "      <th>coluna5</th>\n",
       "    </tr>\n",
       "  </thead>\n",
       "  <tbody>\n",
       "    <tr>\n",
       "      <th>A</th>\n",
       "      <td>35.899765</td>\n",
       "      <td>121.645616</td>\n",
       "      <td>83.245748</td>\n",
       "      <td>-40.689932</td>\n",
       "      <td>letraA</td>\n",
       "    </tr>\n",
       "    <tr>\n",
       "      <th>B</th>\n",
       "      <td>-28.942342</td>\n",
       "      <td>0.910653</td>\n",
       "      <td>131.529298</td>\n",
       "      <td>0.574730</td>\n",
       "      <td>letraB</td>\n",
       "    </tr>\n",
       "    <tr>\n",
       "      <th>C</th>\n",
       "      <td>-211.023795</td>\n",
       "      <td>142.667445</td>\n",
       "      <td>40.132214</td>\n",
       "      <td>-42.922510</td>\n",
       "      <td>letraC</td>\n",
       "    </tr>\n",
       "    <tr>\n",
       "      <th>D</th>\n",
       "      <td>-177.472858</td>\n",
       "      <td>-22.790317</td>\n",
       "      <td>34.550542</td>\n",
       "      <td>31.572081</td>\n",
       "      <td>letraD</td>\n",
       "    </tr>\n",
       "    <tr>\n",
       "      <th>E</th>\n",
       "      <td>-175.681271</td>\n",
       "      <td>114.272777</td>\n",
       "      <td>107.440121</td>\n",
       "      <td>-55.283781</td>\n",
       "      <td>letraE</td>\n",
       "    </tr>\n",
       "    <tr>\n",
       "      <th>F</th>\n",
       "      <td>-164.829198</td>\n",
       "      <td>102.480764</td>\n",
       "      <td>101.208344</td>\n",
       "      <td>-90.739390</td>\n",
       "      <td>letraF</td>\n",
       "    </tr>\n",
       "    <tr>\n",
       "      <th>G</th>\n",
       "      <td>-81.942642</td>\n",
       "      <td>38.538632</td>\n",
       "      <td>-158.376336</td>\n",
       "      <td>-152.693871</td>\n",
       "      <td>letraG</td>\n",
       "    </tr>\n",
       "    <tr>\n",
       "      <th>H</th>\n",
       "      <td>61.467289</td>\n",
       "      <td>71.234551</td>\n",
       "      <td>-111.535957</td>\n",
       "      <td>115.805618</td>\n",
       "      <td>letraH</td>\n",
       "    </tr>\n",
       "    <tr>\n",
       "      <th>I</th>\n",
       "      <td>46.339910</td>\n",
       "      <td>7.290166</td>\n",
       "      <td>-72.013718</td>\n",
       "      <td>-58.359624</td>\n",
       "      <td>letraI</td>\n",
       "    </tr>\n",
       "  </tbody>\n",
       "</table>\n",
       "</div>"
      ],
      "text/plain": [
       "      segunda       terça      quarta      quinta coluna5\n",
       "A   35.899765  121.645616   83.245748  -40.689932  letraA\n",
       "B  -28.942342    0.910653  131.529298    0.574730  letraB\n",
       "C -211.023795  142.667445   40.132214  -42.922510  letraC\n",
       "D -177.472858  -22.790317   34.550542   31.572081  letraD\n",
       "E -175.681271  114.272777  107.440121  -55.283781  letraE\n",
       "F -164.829198  102.480764  101.208344  -90.739390  letraF\n",
       "G  -81.942642   38.538632 -158.376336 -152.693871  letraG\n",
       "H   61.467289   71.234551 -111.535957  115.805618  letraH\n",
       "I   46.339910    7.290166  -72.013718  -58.359624  letraI"
      ]
     },
     "execution_count": 8,
     "metadata": {},
     "output_type": "execute_result"
    }
   ],
   "source": [
    "df"
   ]
  },
  {
   "cell_type": "code",
   "execution_count": 9,
   "metadata": {
    "ExecuteTime": {
     "end_time": "2021-05-29T14:21:32.095960Z",
     "start_time": "2021-05-29T14:21:32.080969Z"
    }
   },
   "outputs": [
    {
     "data": {
      "text/html": [
       "<div>\n",
       "<style scoped>\n",
       "    .dataframe tbody tr th:only-of-type {\n",
       "        vertical-align: middle;\n",
       "    }\n",
       "\n",
       "    .dataframe tbody tr th {\n",
       "        vertical-align: top;\n",
       "    }\n",
       "\n",
       "    .dataframe thead th {\n",
       "        text-align: right;\n",
       "    }\n",
       "</style>\n",
       "<table border=\"1\" class=\"dataframe\">\n",
       "  <thead>\n",
       "    <tr style=\"text-align: right;\">\n",
       "      <th></th>\n",
       "      <th>segunda</th>\n",
       "      <th>terça</th>\n",
       "      <th>quarta</th>\n",
       "      <th>quinta</th>\n",
       "    </tr>\n",
       "    <tr>\n",
       "      <th>coluna5</th>\n",
       "      <th></th>\n",
       "      <th></th>\n",
       "      <th></th>\n",
       "      <th></th>\n",
       "    </tr>\n",
       "  </thead>\n",
       "  <tbody>\n",
       "    <tr>\n",
       "      <th>letraA</th>\n",
       "      <td>35.899765</td>\n",
       "      <td>121.645616</td>\n",
       "      <td>83.245748</td>\n",
       "      <td>-40.689932</td>\n",
       "    </tr>\n",
       "    <tr>\n",
       "      <th>letraB</th>\n",
       "      <td>-28.942342</td>\n",
       "      <td>0.910653</td>\n",
       "      <td>131.529298</td>\n",
       "      <td>0.574730</td>\n",
       "    </tr>\n",
       "    <tr>\n",
       "      <th>letraC</th>\n",
       "      <td>-211.023795</td>\n",
       "      <td>142.667445</td>\n",
       "      <td>40.132214</td>\n",
       "      <td>-42.922510</td>\n",
       "    </tr>\n",
       "    <tr>\n",
       "      <th>letraD</th>\n",
       "      <td>-177.472858</td>\n",
       "      <td>-22.790317</td>\n",
       "      <td>34.550542</td>\n",
       "      <td>31.572081</td>\n",
       "    </tr>\n",
       "    <tr>\n",
       "      <th>letraE</th>\n",
       "      <td>-175.681271</td>\n",
       "      <td>114.272777</td>\n",
       "      <td>107.440121</td>\n",
       "      <td>-55.283781</td>\n",
       "    </tr>\n",
       "    <tr>\n",
       "      <th>letraF</th>\n",
       "      <td>-164.829198</td>\n",
       "      <td>102.480764</td>\n",
       "      <td>101.208344</td>\n",
       "      <td>-90.739390</td>\n",
       "    </tr>\n",
       "    <tr>\n",
       "      <th>letraG</th>\n",
       "      <td>-81.942642</td>\n",
       "      <td>38.538632</td>\n",
       "      <td>-158.376336</td>\n",
       "      <td>-152.693871</td>\n",
       "    </tr>\n",
       "    <tr>\n",
       "      <th>letraH</th>\n",
       "      <td>61.467289</td>\n",
       "      <td>71.234551</td>\n",
       "      <td>-111.535957</td>\n",
       "      <td>115.805618</td>\n",
       "    </tr>\n",
       "    <tr>\n",
       "      <th>letraI</th>\n",
       "      <td>46.339910</td>\n",
       "      <td>7.290166</td>\n",
       "      <td>-72.013718</td>\n",
       "      <td>-58.359624</td>\n",
       "    </tr>\n",
       "  </tbody>\n",
       "</table>\n",
       "</div>"
      ],
      "text/plain": [
       "            segunda       terça      quarta      quinta\n",
       "coluna5                                                \n",
       "letraA    35.899765  121.645616   83.245748  -40.689932\n",
       "letraB   -28.942342    0.910653  131.529298    0.574730\n",
       "letraC  -211.023795  142.667445   40.132214  -42.922510\n",
       "letraD  -177.472858  -22.790317   34.550542   31.572081\n",
       "letraE  -175.681271  114.272777  107.440121  -55.283781\n",
       "letraF  -164.829198  102.480764  101.208344  -90.739390\n",
       "letraG   -81.942642   38.538632 -158.376336 -152.693871\n",
       "letraH    61.467289   71.234551 -111.535957  115.805618\n",
       "letraI    46.339910    7.290166  -72.013718  -58.359624"
      ]
     },
     "execution_count": 9,
     "metadata": {},
     "output_type": "execute_result"
    }
   ],
   "source": [
    "df.set_index('coluna5')\n",
    "# Para realizar a alteração definitivamente no dataframe\n",
    "# df = df.set_index('coluna5')"
   ]
  },
  {
   "cell_type": "code",
   "execution_count": 10,
   "metadata": {
    "ExecuteTime": {
     "end_time": "2021-05-29T14:22:36.756818Z",
     "start_time": "2021-05-29T14:22:36.739827Z"
    }
   },
   "outputs": [
    {
     "data": {
      "text/html": [
       "<div>\n",
       "<style scoped>\n",
       "    .dataframe tbody tr th:only-of-type {\n",
       "        vertical-align: middle;\n",
       "    }\n",
       "\n",
       "    .dataframe tbody tr th {\n",
       "        vertical-align: top;\n",
       "    }\n",
       "\n",
       "    .dataframe thead th {\n",
       "        text-align: right;\n",
       "    }\n",
       "</style>\n",
       "<table border=\"1\" class=\"dataframe\">\n",
       "  <thead>\n",
       "    <tr style=\"text-align: right;\">\n",
       "      <th></th>\n",
       "      <th>segunda</th>\n",
       "      <th>terça</th>\n",
       "      <th>quarta</th>\n",
       "      <th>quinta</th>\n",
       "      <th>coluna5</th>\n",
       "    </tr>\n",
       "  </thead>\n",
       "  <tbody>\n",
       "    <tr>\n",
       "      <th>A</th>\n",
       "      <td>35.899765</td>\n",
       "      <td>121.645616</td>\n",
       "      <td>83.245748</td>\n",
       "      <td>-40.689932</td>\n",
       "      <td>letraA</td>\n",
       "    </tr>\n",
       "    <tr>\n",
       "      <th>B</th>\n",
       "      <td>-28.942342</td>\n",
       "      <td>0.910653</td>\n",
       "      <td>131.529298</td>\n",
       "      <td>0.574730</td>\n",
       "      <td>letraB</td>\n",
       "    </tr>\n",
       "    <tr>\n",
       "      <th>C</th>\n",
       "      <td>-211.023795</td>\n",
       "      <td>142.667445</td>\n",
       "      <td>40.132214</td>\n",
       "      <td>-42.922510</td>\n",
       "      <td>letraC</td>\n",
       "    </tr>\n",
       "    <tr>\n",
       "      <th>D</th>\n",
       "      <td>-177.472858</td>\n",
       "      <td>-22.790317</td>\n",
       "      <td>34.550542</td>\n",
       "      <td>31.572081</td>\n",
       "      <td>letraD</td>\n",
       "    </tr>\n",
       "    <tr>\n",
       "      <th>E</th>\n",
       "      <td>-175.681271</td>\n",
       "      <td>114.272777</td>\n",
       "      <td>107.440121</td>\n",
       "      <td>-55.283781</td>\n",
       "      <td>letraE</td>\n",
       "    </tr>\n",
       "    <tr>\n",
       "      <th>F</th>\n",
       "      <td>-164.829198</td>\n",
       "      <td>102.480764</td>\n",
       "      <td>101.208344</td>\n",
       "      <td>-90.739390</td>\n",
       "      <td>letraF</td>\n",
       "    </tr>\n",
       "    <tr>\n",
       "      <th>G</th>\n",
       "      <td>-81.942642</td>\n",
       "      <td>38.538632</td>\n",
       "      <td>-158.376336</td>\n",
       "      <td>-152.693871</td>\n",
       "      <td>letraG</td>\n",
       "    </tr>\n",
       "    <tr>\n",
       "      <th>H</th>\n",
       "      <td>61.467289</td>\n",
       "      <td>71.234551</td>\n",
       "      <td>-111.535957</td>\n",
       "      <td>115.805618</td>\n",
       "      <td>letraH</td>\n",
       "    </tr>\n",
       "    <tr>\n",
       "      <th>I</th>\n",
       "      <td>46.339910</td>\n",
       "      <td>7.290166</td>\n",
       "      <td>-72.013718</td>\n",
       "      <td>-58.359624</td>\n",
       "      <td>letraI</td>\n",
       "    </tr>\n",
       "  </tbody>\n",
       "</table>\n",
       "</div>"
      ],
      "text/plain": [
       "      segunda       terça      quarta      quinta coluna5\n",
       "A   35.899765  121.645616   83.245748  -40.689932  letraA\n",
       "B  -28.942342    0.910653  131.529298    0.574730  letraB\n",
       "C -211.023795  142.667445   40.132214  -42.922510  letraC\n",
       "D -177.472858  -22.790317   34.550542   31.572081  letraD\n",
       "E -175.681271  114.272777  107.440121  -55.283781  letraE\n",
       "F -164.829198  102.480764  101.208344  -90.739390  letraF\n",
       "G  -81.942642   38.538632 -158.376336 -152.693871  letraG\n",
       "H   61.467289   71.234551 -111.535957  115.805618  letraH\n",
       "I   46.339910    7.290166  -72.013718  -58.359624  letraI"
      ]
     },
     "execution_count": 10,
     "metadata": {},
     "output_type": "execute_result"
    }
   ],
   "source": [
    "df"
   ]
  },
  {
   "cell_type": "code",
   "execution_count": 11,
   "metadata": {
    "ExecuteTime": {
     "end_time": "2021-05-29T14:22:45.637595Z",
     "start_time": "2021-05-29T14:22:45.613607Z"
    }
   },
   "outputs": [
    {
     "data": {
      "text/html": [
       "<div>\n",
       "<style scoped>\n",
       "    .dataframe tbody tr th:only-of-type {\n",
       "        vertical-align: middle;\n",
       "    }\n",
       "\n",
       "    .dataframe tbody tr th {\n",
       "        vertical-align: top;\n",
       "    }\n",
       "\n",
       "    .dataframe thead th {\n",
       "        text-align: right;\n",
       "    }\n",
       "</style>\n",
       "<table border=\"1\" class=\"dataframe\">\n",
       "  <thead>\n",
       "    <tr style=\"text-align: right;\">\n",
       "      <th></th>\n",
       "      <th>index</th>\n",
       "      <th>segunda</th>\n",
       "      <th>terça</th>\n",
       "      <th>quarta</th>\n",
       "      <th>quinta</th>\n",
       "      <th>coluna5</th>\n",
       "    </tr>\n",
       "  </thead>\n",
       "  <tbody>\n",
       "    <tr>\n",
       "      <th>0</th>\n",
       "      <td>A</td>\n",
       "      <td>35.899765</td>\n",
       "      <td>121.645616</td>\n",
       "      <td>83.245748</td>\n",
       "      <td>-40.689932</td>\n",
       "      <td>letraA</td>\n",
       "    </tr>\n",
       "    <tr>\n",
       "      <th>1</th>\n",
       "      <td>B</td>\n",
       "      <td>-28.942342</td>\n",
       "      <td>0.910653</td>\n",
       "      <td>131.529298</td>\n",
       "      <td>0.574730</td>\n",
       "      <td>letraB</td>\n",
       "    </tr>\n",
       "    <tr>\n",
       "      <th>2</th>\n",
       "      <td>C</td>\n",
       "      <td>-211.023795</td>\n",
       "      <td>142.667445</td>\n",
       "      <td>40.132214</td>\n",
       "      <td>-42.922510</td>\n",
       "      <td>letraC</td>\n",
       "    </tr>\n",
       "    <tr>\n",
       "      <th>3</th>\n",
       "      <td>D</td>\n",
       "      <td>-177.472858</td>\n",
       "      <td>-22.790317</td>\n",
       "      <td>34.550542</td>\n",
       "      <td>31.572081</td>\n",
       "      <td>letraD</td>\n",
       "    </tr>\n",
       "    <tr>\n",
       "      <th>4</th>\n",
       "      <td>E</td>\n",
       "      <td>-175.681271</td>\n",
       "      <td>114.272777</td>\n",
       "      <td>107.440121</td>\n",
       "      <td>-55.283781</td>\n",
       "      <td>letraE</td>\n",
       "    </tr>\n",
       "    <tr>\n",
       "      <th>5</th>\n",
       "      <td>F</td>\n",
       "      <td>-164.829198</td>\n",
       "      <td>102.480764</td>\n",
       "      <td>101.208344</td>\n",
       "      <td>-90.739390</td>\n",
       "      <td>letraF</td>\n",
       "    </tr>\n",
       "    <tr>\n",
       "      <th>6</th>\n",
       "      <td>G</td>\n",
       "      <td>-81.942642</td>\n",
       "      <td>38.538632</td>\n",
       "      <td>-158.376336</td>\n",
       "      <td>-152.693871</td>\n",
       "      <td>letraG</td>\n",
       "    </tr>\n",
       "    <tr>\n",
       "      <th>7</th>\n",
       "      <td>H</td>\n",
       "      <td>61.467289</td>\n",
       "      <td>71.234551</td>\n",
       "      <td>-111.535957</td>\n",
       "      <td>115.805618</td>\n",
       "      <td>letraH</td>\n",
       "    </tr>\n",
       "    <tr>\n",
       "      <th>8</th>\n",
       "      <td>I</td>\n",
       "      <td>46.339910</td>\n",
       "      <td>7.290166</td>\n",
       "      <td>-72.013718</td>\n",
       "      <td>-58.359624</td>\n",
       "      <td>letraI</td>\n",
       "    </tr>\n",
       "  </tbody>\n",
       "</table>\n",
       "</div>"
      ],
      "text/plain": [
       "  index     segunda       terça      quarta      quinta coluna5\n",
       "0     A   35.899765  121.645616   83.245748  -40.689932  letraA\n",
       "1     B  -28.942342    0.910653  131.529298    0.574730  letraB\n",
       "2     C -211.023795  142.667445   40.132214  -42.922510  letraC\n",
       "3     D -177.472858  -22.790317   34.550542   31.572081  letraD\n",
       "4     E -175.681271  114.272777  107.440121  -55.283781  letraE\n",
       "5     F -164.829198  102.480764  101.208344  -90.739390  letraF\n",
       "6     G  -81.942642   38.538632 -158.376336 -152.693871  letraG\n",
       "7     H   61.467289   71.234551 -111.535957  115.805618  letraH\n",
       "8     I   46.339910    7.290166  -72.013718  -58.359624  letraI"
      ]
     },
     "execution_count": 11,
     "metadata": {},
     "output_type": "execute_result"
    }
   ],
   "source": [
    "df.reset_index()"
   ]
  },
  {
   "cell_type": "code",
   "execution_count": 13,
   "metadata": {
    "ExecuteTime": {
     "end_time": "2021-05-29T14:23:10.986877Z",
     "start_time": "2021-05-29T14:23:10.978896Z"
    }
   },
   "outputs": [],
   "source": [
    "df.reset_index(drop=True)\n",
    "# Para realizar a alteração definitivamente no dataframe\n",
    "# df.reset_index(drop=True, inplace=True)"
   ]
  },
  {
   "cell_type": "code",
   "execution_count": null,
   "metadata": {},
   "outputs": [],
   "source": []
  },
  {
   "cell_type": "code",
   "execution_count": null,
   "metadata": {},
   "outputs": [],
   "source": []
  },
  {
   "cell_type": "code",
   "execution_count": null,
   "metadata": {},
   "outputs": [],
   "source": []
  },
  {
   "cell_type": "code",
   "execution_count": null,
   "metadata": {},
   "outputs": [],
   "source": []
  }
 ],
 "metadata": {
  "kernelspec": {
   "display_name": "Python 3 (ipykernel)",
   "language": "python",
   "name": "python3"
  },
  "language_info": {
   "codemirror_mode": {
    "name": "ipython",
    "version": 3
   },
   "file_extension": ".py",
   "mimetype": "text/x-python",
   "name": "python",
   "nbconvert_exporter": "python",
   "pygments_lexer": "ipython3",
   "version": "3.11.5"
  },
  "varInspector": {
   "cols": {
    "lenName": 16,
    "lenType": 16,
    "lenVar": 40
   },
   "kernels_config": {
    "python": {
     "delete_cmd_postfix": "",
     "delete_cmd_prefix": "del ",
     "library": "var_list.py",
     "varRefreshCmd": "print(var_dic_list())"
    },
    "r": {
     "delete_cmd_postfix": ") ",
     "delete_cmd_prefix": "rm(",
     "library": "var_list.r",
     "varRefreshCmd": "cat(var_dic_list()) "
    }
   },
   "types_to_exclude": [
    "module",
    "function",
    "builtin_function_or_method",
    "instance",
    "_Feature"
   ],
   "window_display": false
  }
 },
 "nbformat": 4,
 "nbformat_minor": 4
}
