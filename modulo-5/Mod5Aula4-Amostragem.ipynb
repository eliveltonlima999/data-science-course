{
 "cells": [
  {
   "cell_type": "markdown",
   "metadata": {},
   "source": [
    "# Índice <a name=\"Contents\"></a>\n",
    "1. [Importando bibliotecas](#import)\n",
    "2. [Construindo um dataframe ](#read)\n",
    "3. [Amostragem (sample)](#amostragem)\n",
    "3. [Intro sobre métodos de string](#strings)\n",
    "\n"
   ]
  },
  {
   "cell_type": "markdown",
   "metadata": {},
   "source": [
    "# 1. Importando bibliotecas <a name=\"import\"></a>\n",
    "\n",
    "<div style=\"text-align: right\"\n",
    "     \n",
    "[Voltar ao índice](#Contents)"
   ]
  },
  {
   "cell_type": "code",
   "execution_count": 1,
   "metadata": {
    "ExecuteTime": {
     "end_time": "2021-05-31T09:48:00.524786Z",
     "start_time": "2021-05-31T09:47:57.714385Z"
    }
   },
   "outputs": [],
   "source": [
    "import numpy  as np\n",
    "import pandas as pd"
   ]
  },
  {
   "cell_type": "markdown",
   "metadata": {},
   "source": [
    "# 2. Construindo um dataframe  <a name=\"read\"></a>\n",
    "<div style=\"text-align: right\"\n",
    "     \n",
    "[Voltar ao índice](#Contents)"
   ]
  },
  {
   "cell_type": "code",
   "execution_count": 2,
   "metadata": {
    "ExecuteTime": {
     "end_time": "2021-05-31T09:50:48.945129Z",
     "start_time": "2021-05-31T09:50:48.840662Z"
    }
   },
   "outputs": [],
   "source": [
    "df = pd.DataFrame(np.random.randint(100000, size=(1000000, 10)),\n",
    "             columns=['A', 'B', 'C', 'D', 'E', 'F', 'G', 'H', 'I', 'J'])"
   ]
  },
  {
   "cell_type": "markdown",
   "metadata": {},
   "source": [
    "# 3. Amostragem <a name=\"amostragem\"></a>\n",
    "<div style=\"text-align: right\"\n",
    "     \n",
    "[Voltar ao índice](#Contents)"
   ]
  },
  {
   "cell_type": "code",
   "execution_count": 3,
   "metadata": {
    "ExecuteTime": {
     "end_time": "2021-05-31T09:53:30.287377Z",
     "start_time": "2021-05-31T09:53:30.273391Z"
    }
   },
   "outputs": [
    {
     "data": {
      "text/plain": [
       "(1000000, 10)"
      ]
     },
     "execution_count": 3,
     "metadata": {},
     "output_type": "execute_result"
    }
   ],
   "source": [
    "# Mostra o total de linhas\n",
    "df.shape"
   ]
  },
  {
   "cell_type": "code",
   "execution_count": 6,
   "metadata": {},
   "outputs": [
    {
     "data": {
      "text/html": [
       "<div>\n",
       "<style scoped>\n",
       "    .dataframe tbody tr th:only-of-type {\n",
       "        vertical-align: middle;\n",
       "    }\n",
       "\n",
       "    .dataframe tbody tr th {\n",
       "        vertical-align: top;\n",
       "    }\n",
       "\n",
       "    .dataframe thead th {\n",
       "        text-align: right;\n",
       "    }\n",
       "</style>\n",
       "<table border=\"1\" class=\"dataframe\">\n",
       "  <thead>\n",
       "    <tr style=\"text-align: right;\">\n",
       "      <th></th>\n",
       "      <th>A</th>\n",
       "      <th>B</th>\n",
       "      <th>C</th>\n",
       "      <th>D</th>\n",
       "      <th>E</th>\n",
       "      <th>F</th>\n",
       "      <th>G</th>\n",
       "      <th>H</th>\n",
       "      <th>I</th>\n",
       "      <th>J</th>\n",
       "    </tr>\n",
       "  </thead>\n",
       "  <tbody>\n",
       "    <tr>\n",
       "      <th>0</th>\n",
       "      <td>35433</td>\n",
       "      <td>65902</td>\n",
       "      <td>71902</td>\n",
       "      <td>50617</td>\n",
       "      <td>30985</td>\n",
       "      <td>3169</td>\n",
       "      <td>96246</td>\n",
       "      <td>7974</td>\n",
       "      <td>82729</td>\n",
       "      <td>50953</td>\n",
       "    </tr>\n",
       "    <tr>\n",
       "      <th>1</th>\n",
       "      <td>17655</td>\n",
       "      <td>87995</td>\n",
       "      <td>64304</td>\n",
       "      <td>17833</td>\n",
       "      <td>24033</td>\n",
       "      <td>38758</td>\n",
       "      <td>56429</td>\n",
       "      <td>28966</td>\n",
       "      <td>3729</td>\n",
       "      <td>59081</td>\n",
       "    </tr>\n",
       "    <tr>\n",
       "      <th>2</th>\n",
       "      <td>12701</td>\n",
       "      <td>75640</td>\n",
       "      <td>62322</td>\n",
       "      <td>26803</td>\n",
       "      <td>91472</td>\n",
       "      <td>50009</td>\n",
       "      <td>60411</td>\n",
       "      <td>71141</td>\n",
       "      <td>33534</td>\n",
       "      <td>70535</td>\n",
       "    </tr>\n",
       "    <tr>\n",
       "      <th>3</th>\n",
       "      <td>59405</td>\n",
       "      <td>38055</td>\n",
       "      <td>50171</td>\n",
       "      <td>35872</td>\n",
       "      <td>11061</td>\n",
       "      <td>717</td>\n",
       "      <td>18586</td>\n",
       "      <td>51239</td>\n",
       "      <td>95861</td>\n",
       "      <td>46090</td>\n",
       "    </tr>\n",
       "    <tr>\n",
       "      <th>4</th>\n",
       "      <td>43106</td>\n",
       "      <td>33766</td>\n",
       "      <td>22746</td>\n",
       "      <td>12182</td>\n",
       "      <td>63573</td>\n",
       "      <td>52190</td>\n",
       "      <td>42116</td>\n",
       "      <td>51070</td>\n",
       "      <td>40402</td>\n",
       "      <td>32896</td>\n",
       "    </tr>\n",
       "    <tr>\n",
       "      <th>...</th>\n",
       "      <td>...</td>\n",
       "      <td>...</td>\n",
       "      <td>...</td>\n",
       "      <td>...</td>\n",
       "      <td>...</td>\n",
       "      <td>...</td>\n",
       "      <td>...</td>\n",
       "      <td>...</td>\n",
       "      <td>...</td>\n",
       "      <td>...</td>\n",
       "    </tr>\n",
       "    <tr>\n",
       "      <th>95</th>\n",
       "      <td>57892</td>\n",
       "      <td>82446</td>\n",
       "      <td>97566</td>\n",
       "      <td>3097</td>\n",
       "      <td>42220</td>\n",
       "      <td>37285</td>\n",
       "      <td>42074</td>\n",
       "      <td>42478</td>\n",
       "      <td>70965</td>\n",
       "      <td>17700</td>\n",
       "    </tr>\n",
       "    <tr>\n",
       "      <th>96</th>\n",
       "      <td>17153</td>\n",
       "      <td>7583</td>\n",
       "      <td>68792</td>\n",
       "      <td>29647</td>\n",
       "      <td>61942</td>\n",
       "      <td>87128</td>\n",
       "      <td>93394</td>\n",
       "      <td>10686</td>\n",
       "      <td>95583</td>\n",
       "      <td>3940</td>\n",
       "    </tr>\n",
       "    <tr>\n",
       "      <th>97</th>\n",
       "      <td>11702</td>\n",
       "      <td>17597</td>\n",
       "      <td>42639</td>\n",
       "      <td>14799</td>\n",
       "      <td>87991</td>\n",
       "      <td>3368</td>\n",
       "      <td>43581</td>\n",
       "      <td>80997</td>\n",
       "      <td>93941</td>\n",
       "      <td>19512</td>\n",
       "    </tr>\n",
       "    <tr>\n",
       "      <th>98</th>\n",
       "      <td>86570</td>\n",
       "      <td>96732</td>\n",
       "      <td>35512</td>\n",
       "      <td>96885</td>\n",
       "      <td>5770</td>\n",
       "      <td>88731</td>\n",
       "      <td>54576</td>\n",
       "      <td>94931</td>\n",
       "      <td>83354</td>\n",
       "      <td>31544</td>\n",
       "    </tr>\n",
       "    <tr>\n",
       "      <th>99</th>\n",
       "      <td>61298</td>\n",
       "      <td>4863</td>\n",
       "      <td>63236</td>\n",
       "      <td>32392</td>\n",
       "      <td>24514</td>\n",
       "      <td>59075</td>\n",
       "      <td>87409</td>\n",
       "      <td>15853</td>\n",
       "      <td>30753</td>\n",
       "      <td>23445</td>\n",
       "    </tr>\n",
       "  </tbody>\n",
       "</table>\n",
       "<p>100 rows × 10 columns</p>\n",
       "</div>"
      ],
      "text/plain": [
       "        A      B      C      D      E      F      G      H      I      J\n",
       "0   35433  65902  71902  50617  30985   3169  96246   7974  82729  50953\n",
       "1   17655  87995  64304  17833  24033  38758  56429  28966   3729  59081\n",
       "2   12701  75640  62322  26803  91472  50009  60411  71141  33534  70535\n",
       "3   59405  38055  50171  35872  11061    717  18586  51239  95861  46090\n",
       "4   43106  33766  22746  12182  63573  52190  42116  51070  40402  32896\n",
       "..    ...    ...    ...    ...    ...    ...    ...    ...    ...    ...\n",
       "95  57892  82446  97566   3097  42220  37285  42074  42478  70965  17700\n",
       "96  17153   7583  68792  29647  61942  87128  93394  10686  95583   3940\n",
       "97  11702  17597  42639  14799  87991   3368  43581  80997  93941  19512\n",
       "98  86570  96732  35512  96885   5770  88731  54576  94931  83354  31544\n",
       "99  61298   4863  63236  32392  24514  59075  87409  15853  30753  23445\n",
       "\n",
       "[100 rows x 10 columns]"
      ]
     },
     "execution_count": 6,
     "metadata": {},
     "output_type": "execute_result"
    }
   ],
   "source": [
    "# Mostra as 5 primeiras linhas como padrão. \n",
    "# A quantidade de linhas pode ser passada como parâmetro.\n",
    "# É um tipo de amostragem\n",
    "df.head(100)"
   ]
  },
  {
   "cell_type": "code",
   "execution_count": 8,
   "metadata": {},
   "outputs": [
    {
     "data": {
      "text/html": [
       "<div>\n",
       "<style scoped>\n",
       "    .dataframe tbody tr th:only-of-type {\n",
       "        vertical-align: middle;\n",
       "    }\n",
       "\n",
       "    .dataframe tbody tr th {\n",
       "        vertical-align: top;\n",
       "    }\n",
       "\n",
       "    .dataframe thead th {\n",
       "        text-align: right;\n",
       "    }\n",
       "</style>\n",
       "<table border=\"1\" class=\"dataframe\">\n",
       "  <thead>\n",
       "    <tr style=\"text-align: right;\">\n",
       "      <th></th>\n",
       "      <th>A</th>\n",
       "      <th>B</th>\n",
       "      <th>C</th>\n",
       "      <th>D</th>\n",
       "      <th>E</th>\n",
       "      <th>F</th>\n",
       "      <th>G</th>\n",
       "      <th>H</th>\n",
       "      <th>I</th>\n",
       "      <th>J</th>\n",
       "    </tr>\n",
       "  </thead>\n",
       "  <tbody>\n",
       "    <tr>\n",
       "      <th>999900</th>\n",
       "      <td>74913</td>\n",
       "      <td>16597</td>\n",
       "      <td>31973</td>\n",
       "      <td>2725</td>\n",
       "      <td>60699</td>\n",
       "      <td>89546</td>\n",
       "      <td>66912</td>\n",
       "      <td>76658</td>\n",
       "      <td>32951</td>\n",
       "      <td>8580</td>\n",
       "    </tr>\n",
       "    <tr>\n",
       "      <th>999901</th>\n",
       "      <td>16473</td>\n",
       "      <td>36181</td>\n",
       "      <td>58518</td>\n",
       "      <td>99703</td>\n",
       "      <td>39129</td>\n",
       "      <td>54353</td>\n",
       "      <td>89708</td>\n",
       "      <td>56415</td>\n",
       "      <td>35567</td>\n",
       "      <td>21055</td>\n",
       "    </tr>\n",
       "    <tr>\n",
       "      <th>999902</th>\n",
       "      <td>37346</td>\n",
       "      <td>67777</td>\n",
       "      <td>79789</td>\n",
       "      <td>46809</td>\n",
       "      <td>19422</td>\n",
       "      <td>58472</td>\n",
       "      <td>23234</td>\n",
       "      <td>7944</td>\n",
       "      <td>25657</td>\n",
       "      <td>38953</td>\n",
       "    </tr>\n",
       "    <tr>\n",
       "      <th>999903</th>\n",
       "      <td>14843</td>\n",
       "      <td>26934</td>\n",
       "      <td>7124</td>\n",
       "      <td>47855</td>\n",
       "      <td>23244</td>\n",
       "      <td>39524</td>\n",
       "      <td>81985</td>\n",
       "      <td>3017</td>\n",
       "      <td>15779</td>\n",
       "      <td>38192</td>\n",
       "    </tr>\n",
       "    <tr>\n",
       "      <th>999904</th>\n",
       "      <td>98087</td>\n",
       "      <td>1407</td>\n",
       "      <td>15676</td>\n",
       "      <td>66959</td>\n",
       "      <td>67530</td>\n",
       "      <td>907</td>\n",
       "      <td>25159</td>\n",
       "      <td>3393</td>\n",
       "      <td>34606</td>\n",
       "      <td>34060</td>\n",
       "    </tr>\n",
       "    <tr>\n",
       "      <th>...</th>\n",
       "      <td>...</td>\n",
       "      <td>...</td>\n",
       "      <td>...</td>\n",
       "      <td>...</td>\n",
       "      <td>...</td>\n",
       "      <td>...</td>\n",
       "      <td>...</td>\n",
       "      <td>...</td>\n",
       "      <td>...</td>\n",
       "      <td>...</td>\n",
       "    </tr>\n",
       "    <tr>\n",
       "      <th>999995</th>\n",
       "      <td>76928</td>\n",
       "      <td>48029</td>\n",
       "      <td>77266</td>\n",
       "      <td>1546</td>\n",
       "      <td>88773</td>\n",
       "      <td>79483</td>\n",
       "      <td>84916</td>\n",
       "      <td>54955</td>\n",
       "      <td>48385</td>\n",
       "      <td>21067</td>\n",
       "    </tr>\n",
       "    <tr>\n",
       "      <th>999996</th>\n",
       "      <td>25993</td>\n",
       "      <td>76335</td>\n",
       "      <td>80612</td>\n",
       "      <td>67902</td>\n",
       "      <td>25249</td>\n",
       "      <td>11849</td>\n",
       "      <td>62214</td>\n",
       "      <td>53977</td>\n",
       "      <td>38733</td>\n",
       "      <td>32103</td>\n",
       "    </tr>\n",
       "    <tr>\n",
       "      <th>999997</th>\n",
       "      <td>13709</td>\n",
       "      <td>55428</td>\n",
       "      <td>71741</td>\n",
       "      <td>50927</td>\n",
       "      <td>36086</td>\n",
       "      <td>68098</td>\n",
       "      <td>70327</td>\n",
       "      <td>36286</td>\n",
       "      <td>68702</td>\n",
       "      <td>48053</td>\n",
       "    </tr>\n",
       "    <tr>\n",
       "      <th>999998</th>\n",
       "      <td>19564</td>\n",
       "      <td>64478</td>\n",
       "      <td>92804</td>\n",
       "      <td>45974</td>\n",
       "      <td>7718</td>\n",
       "      <td>43370</td>\n",
       "      <td>5104</td>\n",
       "      <td>26689</td>\n",
       "      <td>53478</td>\n",
       "      <td>20703</td>\n",
       "    </tr>\n",
       "    <tr>\n",
       "      <th>999999</th>\n",
       "      <td>69274</td>\n",
       "      <td>48387</td>\n",
       "      <td>54732</td>\n",
       "      <td>12958</td>\n",
       "      <td>72974</td>\n",
       "      <td>69958</td>\n",
       "      <td>21825</td>\n",
       "      <td>84512</td>\n",
       "      <td>94180</td>\n",
       "      <td>20957</td>\n",
       "    </tr>\n",
       "  </tbody>\n",
       "</table>\n",
       "<p>100 rows × 10 columns</p>\n",
       "</div>"
      ],
      "text/plain": [
       "            A      B      C      D      E      F      G      H      I      J\n",
       "999900  74913  16597  31973   2725  60699  89546  66912  76658  32951   8580\n",
       "999901  16473  36181  58518  99703  39129  54353  89708  56415  35567  21055\n",
       "999902  37346  67777  79789  46809  19422  58472  23234   7944  25657  38953\n",
       "999903  14843  26934   7124  47855  23244  39524  81985   3017  15779  38192\n",
       "999904  98087   1407  15676  66959  67530    907  25159   3393  34606  34060\n",
       "...       ...    ...    ...    ...    ...    ...    ...    ...    ...    ...\n",
       "999995  76928  48029  77266   1546  88773  79483  84916  54955  48385  21067\n",
       "999996  25993  76335  80612  67902  25249  11849  62214  53977  38733  32103\n",
       "999997  13709  55428  71741  50927  36086  68098  70327  36286  68702  48053\n",
       "999998  19564  64478  92804  45974   7718  43370   5104  26689  53478  20703\n",
       "999999  69274  48387  54732  12958  72974  69958  21825  84512  94180  20957\n",
       "\n",
       "[100 rows x 10 columns]"
      ]
     },
     "execution_count": 8,
     "metadata": {},
     "output_type": "execute_result"
    }
   ],
   "source": [
    "# Mostra as 5 últimas linhas como padrão. \n",
    "# A quantidade de linhas pode ser passada como parâmetro.\n",
    "# É um tipo de amostragem\n",
    "df.tail(100)"
   ]
  },
  {
   "cell_type": "code",
   "execution_count": 29,
   "metadata": {
    "ExecuteTime": {
     "end_time": "2021-05-31T09:52:47.422509Z",
     "start_time": "2021-05-31T09:52:47.363477Z"
    }
   },
   "outputs": [
    {
     "data": {
      "text/html": [
       "<div>\n",
       "<style scoped>\n",
       "    .dataframe tbody tr th:only-of-type {\n",
       "        vertical-align: middle;\n",
       "    }\n",
       "\n",
       "    .dataframe tbody tr th {\n",
       "        vertical-align: top;\n",
       "    }\n",
       "\n",
       "    .dataframe thead th {\n",
       "        text-align: right;\n",
       "    }\n",
       "</style>\n",
       "<table border=\"1\" class=\"dataframe\">\n",
       "  <thead>\n",
       "    <tr style=\"text-align: right;\">\n",
       "      <th></th>\n",
       "      <th>A</th>\n",
       "      <th>B</th>\n",
       "      <th>C</th>\n",
       "      <th>D</th>\n",
       "      <th>E</th>\n",
       "      <th>F</th>\n",
       "      <th>G</th>\n",
       "      <th>H</th>\n",
       "      <th>I</th>\n",
       "      <th>J</th>\n",
       "    </tr>\n",
       "  </thead>\n",
       "  <tbody>\n",
       "    <tr>\n",
       "      <th>876247</th>\n",
       "      <td>78974</td>\n",
       "      <td>63228</td>\n",
       "      <td>36674</td>\n",
       "      <td>93768</td>\n",
       "      <td>47042</td>\n",
       "      <td>39026</td>\n",
       "      <td>58731</td>\n",
       "      <td>30810</td>\n",
       "      <td>2254</td>\n",
       "      <td>28957</td>\n",
       "    </tr>\n",
       "    <tr>\n",
       "      <th>421964</th>\n",
       "      <td>6626</td>\n",
       "      <td>61698</td>\n",
       "      <td>20760</td>\n",
       "      <td>67486</td>\n",
       "      <td>62378</td>\n",
       "      <td>54440</td>\n",
       "      <td>26653</td>\n",
       "      <td>32743</td>\n",
       "      <td>86035</td>\n",
       "      <td>24093</td>\n",
       "    </tr>\n",
       "    <tr>\n",
       "      <th>86115</th>\n",
       "      <td>72653</td>\n",
       "      <td>79486</td>\n",
       "      <td>25359</td>\n",
       "      <td>73162</td>\n",
       "      <td>18162</td>\n",
       "      <td>59961</td>\n",
       "      <td>39345</td>\n",
       "      <td>44741</td>\n",
       "      <td>14911</td>\n",
       "      <td>3574</td>\n",
       "    </tr>\n",
       "    <tr>\n",
       "      <th>352318</th>\n",
       "      <td>5877</td>\n",
       "      <td>6043</td>\n",
       "      <td>36059</td>\n",
       "      <td>61501</td>\n",
       "      <td>33853</td>\n",
       "      <td>21716</td>\n",
       "      <td>24460</td>\n",
       "      <td>7405</td>\n",
       "      <td>6999</td>\n",
       "      <td>18993</td>\n",
       "    </tr>\n",
       "    <tr>\n",
       "      <th>991621</th>\n",
       "      <td>82358</td>\n",
       "      <td>79000</td>\n",
       "      <td>67749</td>\n",
       "      <td>13071</td>\n",
       "      <td>80717</td>\n",
       "      <td>95612</td>\n",
       "      <td>69807</td>\n",
       "      <td>42590</td>\n",
       "      <td>60718</td>\n",
       "      <td>47569</td>\n",
       "    </tr>\n",
       "    <tr>\n",
       "      <th>304177</th>\n",
       "      <td>62884</td>\n",
       "      <td>48907</td>\n",
       "      <td>89073</td>\n",
       "      <td>59089</td>\n",
       "      <td>78984</td>\n",
       "      <td>18675</td>\n",
       "      <td>15662</td>\n",
       "      <td>77605</td>\n",
       "      <td>93986</td>\n",
       "      <td>34688</td>\n",
       "    </tr>\n",
       "    <tr>\n",
       "      <th>884152</th>\n",
       "      <td>6790</td>\n",
       "      <td>46941</td>\n",
       "      <td>98741</td>\n",
       "      <td>55997</td>\n",
       "      <td>59294</td>\n",
       "      <td>90959</td>\n",
       "      <td>64366</td>\n",
       "      <td>15068</td>\n",
       "      <td>6067</td>\n",
       "      <td>66071</td>\n",
       "    </tr>\n",
       "    <tr>\n",
       "      <th>200362</th>\n",
       "      <td>4156</td>\n",
       "      <td>61234</td>\n",
       "      <td>9576</td>\n",
       "      <td>48359</td>\n",
       "      <td>65071</td>\n",
       "      <td>25807</td>\n",
       "      <td>24449</td>\n",
       "      <td>69912</td>\n",
       "      <td>47737</td>\n",
       "      <td>78812</td>\n",
       "    </tr>\n",
       "    <tr>\n",
       "      <th>17559</th>\n",
       "      <td>44835</td>\n",
       "      <td>87716</td>\n",
       "      <td>74353</td>\n",
       "      <td>49753</td>\n",
       "      <td>56196</td>\n",
       "      <td>42305</td>\n",
       "      <td>77023</td>\n",
       "      <td>11693</td>\n",
       "      <td>3753</td>\n",
       "      <td>89925</td>\n",
       "    </tr>\n",
       "    <tr>\n",
       "      <th>91503</th>\n",
       "      <td>98304</td>\n",
       "      <td>3841</td>\n",
       "      <td>57072</td>\n",
       "      <td>32635</td>\n",
       "      <td>41783</td>\n",
       "      <td>76145</td>\n",
       "      <td>23055</td>\n",
       "      <td>6522</td>\n",
       "      <td>87865</td>\n",
       "      <td>74442</td>\n",
       "    </tr>\n",
       "  </tbody>\n",
       "</table>\n",
       "</div>"
      ],
      "text/plain": [
       "            A      B      C      D      E      F      G      H      I      J\n",
       "876247  78974  63228  36674  93768  47042  39026  58731  30810   2254  28957\n",
       "421964   6626  61698  20760  67486  62378  54440  26653  32743  86035  24093\n",
       "86115   72653  79486  25359  73162  18162  59961  39345  44741  14911   3574\n",
       "352318   5877   6043  36059  61501  33853  21716  24460   7405   6999  18993\n",
       "991621  82358  79000  67749  13071  80717  95612  69807  42590  60718  47569\n",
       "304177  62884  48907  89073  59089  78984  18675  15662  77605  93986  34688\n",
       "884152   6790  46941  98741  55997  59294  90959  64366  15068   6067  66071\n",
       "200362   4156  61234   9576  48359  65071  25807  24449  69912  47737  78812\n",
       "17559   44835  87716  74353  49753  56196  42305  77023  11693   3753  89925\n",
       "91503   98304   3841  57072  32635  41783  76145  23055   6522  87865  74442"
      ]
     },
     "execution_count": 29,
     "metadata": {},
     "output_type": "execute_result"
    }
   ],
   "source": [
    "# Realiza uma amostragem aleatória dos dados \n",
    "# Pode fazer por linhas, fração e etc.\n",
    "df.sample(10)"
   ]
  },
  {
   "cell_type": "code",
   "execution_count": 34,
   "metadata": {
    "ExecuteTime": {
     "end_time": "2021-05-31T09:52:50.016696Z",
     "start_time": "2021-05-31T09:52:49.955731Z"
    },
    "scrolled": true
   },
   "outputs": [
    {
     "data": {
      "text/html": [
       "<div>\n",
       "<style scoped>\n",
       "    .dataframe tbody tr th:only-of-type {\n",
       "        vertical-align: middle;\n",
       "    }\n",
       "\n",
       "    .dataframe tbody tr th {\n",
       "        vertical-align: top;\n",
       "    }\n",
       "\n",
       "    .dataframe thead th {\n",
       "        text-align: right;\n",
       "    }\n",
       "</style>\n",
       "<table border=\"1\" class=\"dataframe\">\n",
       "  <thead>\n",
       "    <tr style=\"text-align: right;\">\n",
       "      <th></th>\n",
       "      <th>A</th>\n",
       "      <th>B</th>\n",
       "      <th>C</th>\n",
       "      <th>D</th>\n",
       "      <th>E</th>\n",
       "      <th>F</th>\n",
       "      <th>G</th>\n",
       "      <th>H</th>\n",
       "      <th>I</th>\n",
       "      <th>J</th>\n",
       "    </tr>\n",
       "  </thead>\n",
       "  <tbody>\n",
       "    <tr>\n",
       "      <th>617759</th>\n",
       "      <td>39232</td>\n",
       "      <td>38839</td>\n",
       "      <td>57187</td>\n",
       "      <td>58787</td>\n",
       "      <td>81031</td>\n",
       "      <td>80429</td>\n",
       "      <td>91186</td>\n",
       "      <td>57050</td>\n",
       "      <td>28876</td>\n",
       "      <td>11818</td>\n",
       "    </tr>\n",
       "    <tr>\n",
       "      <th>693227</th>\n",
       "      <td>30765</td>\n",
       "      <td>91684</td>\n",
       "      <td>97761</td>\n",
       "      <td>47827</td>\n",
       "      <td>70488</td>\n",
       "      <td>49470</td>\n",
       "      <td>63730</td>\n",
       "      <td>43030</td>\n",
       "      <td>56794</td>\n",
       "      <td>97176</td>\n",
       "    </tr>\n",
       "    <tr>\n",
       "      <th>906065</th>\n",
       "      <td>86942</td>\n",
       "      <td>19520</td>\n",
       "      <td>92810</td>\n",
       "      <td>30451</td>\n",
       "      <td>48667</td>\n",
       "      <td>66297</td>\n",
       "      <td>37356</td>\n",
       "      <td>65799</td>\n",
       "      <td>69073</td>\n",
       "      <td>60694</td>\n",
       "    </tr>\n",
       "    <tr>\n",
       "      <th>828507</th>\n",
       "      <td>88492</td>\n",
       "      <td>43029</td>\n",
       "      <td>12183</td>\n",
       "      <td>24445</td>\n",
       "      <td>79040</td>\n",
       "      <td>42737</td>\n",
       "      <td>31564</td>\n",
       "      <td>45121</td>\n",
       "      <td>37144</td>\n",
       "      <td>23041</td>\n",
       "    </tr>\n",
       "    <tr>\n",
       "      <th>869730</th>\n",
       "      <td>73837</td>\n",
       "      <td>47826</td>\n",
       "      <td>49905</td>\n",
       "      <td>23030</td>\n",
       "      <td>5929</td>\n",
       "      <td>58253</td>\n",
       "      <td>99023</td>\n",
       "      <td>63221</td>\n",
       "      <td>48613</td>\n",
       "      <td>2465</td>\n",
       "    </tr>\n",
       "    <tr>\n",
       "      <th>147081</th>\n",
       "      <td>54716</td>\n",
       "      <td>85280</td>\n",
       "      <td>95500</td>\n",
       "      <td>87191</td>\n",
       "      <td>64840</td>\n",
       "      <td>29599</td>\n",
       "      <td>25893</td>\n",
       "      <td>65225</td>\n",
       "      <td>9254</td>\n",
       "      <td>11282</td>\n",
       "    </tr>\n",
       "    <tr>\n",
       "      <th>779428</th>\n",
       "      <td>80045</td>\n",
       "      <td>10145</td>\n",
       "      <td>63423</td>\n",
       "      <td>51887</td>\n",
       "      <td>14735</td>\n",
       "      <td>66362</td>\n",
       "      <td>22605</td>\n",
       "      <td>92766</td>\n",
       "      <td>4934</td>\n",
       "      <td>23481</td>\n",
       "    </tr>\n",
       "    <tr>\n",
       "      <th>485973</th>\n",
       "      <td>7141</td>\n",
       "      <td>94182</td>\n",
       "      <td>78647</td>\n",
       "      <td>55073</td>\n",
       "      <td>59154</td>\n",
       "      <td>49211</td>\n",
       "      <td>13717</td>\n",
       "      <td>10809</td>\n",
       "      <td>32458</td>\n",
       "      <td>31649</td>\n",
       "    </tr>\n",
       "    <tr>\n",
       "      <th>30697</th>\n",
       "      <td>69904</td>\n",
       "      <td>1336</td>\n",
       "      <td>4562</td>\n",
       "      <td>83241</td>\n",
       "      <td>43481</td>\n",
       "      <td>71062</td>\n",
       "      <td>56027</td>\n",
       "      <td>96141</td>\n",
       "      <td>61457</td>\n",
       "      <td>24860</td>\n",
       "    </tr>\n",
       "    <tr>\n",
       "      <th>306669</th>\n",
       "      <td>60472</td>\n",
       "      <td>79378</td>\n",
       "      <td>78237</td>\n",
       "      <td>58356</td>\n",
       "      <td>25840</td>\n",
       "      <td>10524</td>\n",
       "      <td>19607</td>\n",
       "      <td>94828</td>\n",
       "      <td>15167</td>\n",
       "      <td>1303</td>\n",
       "    </tr>\n",
       "  </tbody>\n",
       "</table>\n",
       "</div>"
      ],
      "text/plain": [
       "            A      B      C      D      E      F      G      H      I      J\n",
       "617759  39232  38839  57187  58787  81031  80429  91186  57050  28876  11818\n",
       "693227  30765  91684  97761  47827  70488  49470  63730  43030  56794  97176\n",
       "906065  86942  19520  92810  30451  48667  66297  37356  65799  69073  60694\n",
       "828507  88492  43029  12183  24445  79040  42737  31564  45121  37144  23041\n",
       "869730  73837  47826  49905  23030   5929  58253  99023  63221  48613   2465\n",
       "147081  54716  85280  95500  87191  64840  29599  25893  65225   9254  11282\n",
       "779428  80045  10145  63423  51887  14735  66362  22605  92766   4934  23481\n",
       "485973   7141  94182  78647  55073  59154  49211  13717  10809  32458  31649\n",
       "30697   69904   1336   4562  83241  43481  71062  56027  96141  61457  24860\n",
       "306669  60472  79378  78237  58356  25840  10524  19607  94828  15167   1303"
      ]
     },
     "execution_count": 34,
     "metadata": {},
     "output_type": "execute_result"
    }
   ],
   "source": [
    "# Para manter a mesma amostra, basta utilizar o parâmetro random_state\n",
    "df.sample(10, random_state=100)"
   ]
  },
  {
   "cell_type": "code",
   "execution_count": 39,
   "metadata": {
    "ExecuteTime": {
     "end_time": "2021-05-31T09:53:12.039004Z",
     "start_time": "2021-05-31T09:53:11.970040Z"
    },
    "scrolled": false
   },
   "outputs": [
    {
     "data": {
      "text/html": [
       "<div>\n",
       "<style scoped>\n",
       "    .dataframe tbody tr th:only-of-type {\n",
       "        vertical-align: middle;\n",
       "    }\n",
       "\n",
       "    .dataframe tbody tr th {\n",
       "        vertical-align: top;\n",
       "    }\n",
       "\n",
       "    .dataframe thead th {\n",
       "        text-align: right;\n",
       "    }\n",
       "</style>\n",
       "<table border=\"1\" class=\"dataframe\">\n",
       "  <thead>\n",
       "    <tr style=\"text-align: right;\">\n",
       "      <th></th>\n",
       "      <th>A</th>\n",
       "      <th>B</th>\n",
       "      <th>C</th>\n",
       "      <th>D</th>\n",
       "      <th>E</th>\n",
       "      <th>F</th>\n",
       "      <th>G</th>\n",
       "      <th>H</th>\n",
       "      <th>I</th>\n",
       "      <th>J</th>\n",
       "    </tr>\n",
       "  </thead>\n",
       "  <tbody>\n",
       "    <tr>\n",
       "      <th>617759</th>\n",
       "      <td>39232</td>\n",
       "      <td>38839</td>\n",
       "      <td>57187</td>\n",
       "      <td>58787</td>\n",
       "      <td>81031</td>\n",
       "      <td>80429</td>\n",
       "      <td>91186</td>\n",
       "      <td>57050</td>\n",
       "      <td>28876</td>\n",
       "      <td>11818</td>\n",
       "    </tr>\n",
       "    <tr>\n",
       "      <th>693227</th>\n",
       "      <td>30765</td>\n",
       "      <td>91684</td>\n",
       "      <td>97761</td>\n",
       "      <td>47827</td>\n",
       "      <td>70488</td>\n",
       "      <td>49470</td>\n",
       "      <td>63730</td>\n",
       "      <td>43030</td>\n",
       "      <td>56794</td>\n",
       "      <td>97176</td>\n",
       "    </tr>\n",
       "    <tr>\n",
       "      <th>906065</th>\n",
       "      <td>86942</td>\n",
       "      <td>19520</td>\n",
       "      <td>92810</td>\n",
       "      <td>30451</td>\n",
       "      <td>48667</td>\n",
       "      <td>66297</td>\n",
       "      <td>37356</td>\n",
       "      <td>65799</td>\n",
       "      <td>69073</td>\n",
       "      <td>60694</td>\n",
       "    </tr>\n",
       "    <tr>\n",
       "      <th>828507</th>\n",
       "      <td>88492</td>\n",
       "      <td>43029</td>\n",
       "      <td>12183</td>\n",
       "      <td>24445</td>\n",
       "      <td>79040</td>\n",
       "      <td>42737</td>\n",
       "      <td>31564</td>\n",
       "      <td>45121</td>\n",
       "      <td>37144</td>\n",
       "      <td>23041</td>\n",
       "    </tr>\n",
       "    <tr>\n",
       "      <th>869730</th>\n",
       "      <td>73837</td>\n",
       "      <td>47826</td>\n",
       "      <td>49905</td>\n",
       "      <td>23030</td>\n",
       "      <td>5929</td>\n",
       "      <td>58253</td>\n",
       "      <td>99023</td>\n",
       "      <td>63221</td>\n",
       "      <td>48613</td>\n",
       "      <td>2465</td>\n",
       "    </tr>\n",
       "    <tr>\n",
       "      <th>...</th>\n",
       "      <td>...</td>\n",
       "      <td>...</td>\n",
       "      <td>...</td>\n",
       "      <td>...</td>\n",
       "      <td>...</td>\n",
       "      <td>...</td>\n",
       "      <td>...</td>\n",
       "      <td>...</td>\n",
       "      <td>...</td>\n",
       "      <td>...</td>\n",
       "    </tr>\n",
       "    <tr>\n",
       "      <th>599633</th>\n",
       "      <td>95684</td>\n",
       "      <td>49105</td>\n",
       "      <td>81923</td>\n",
       "      <td>81312</td>\n",
       "      <td>76326</td>\n",
       "      <td>87766</td>\n",
       "      <td>73976</td>\n",
       "      <td>22945</td>\n",
       "      <td>17684</td>\n",
       "      <td>49711</td>\n",
       "    </tr>\n",
       "    <tr>\n",
       "      <th>103907</th>\n",
       "      <td>8662</td>\n",
       "      <td>75900</td>\n",
       "      <td>74461</td>\n",
       "      <td>46949</td>\n",
       "      <td>44094</td>\n",
       "      <td>13294</td>\n",
       "      <td>66541</td>\n",
       "      <td>77393</td>\n",
       "      <td>97152</td>\n",
       "      <td>40926</td>\n",
       "    </tr>\n",
       "    <tr>\n",
       "      <th>536846</th>\n",
       "      <td>38263</td>\n",
       "      <td>15656</td>\n",
       "      <td>61228</td>\n",
       "      <td>99950</td>\n",
       "      <td>86295</td>\n",
       "      <td>90133</td>\n",
       "      <td>76975</td>\n",
       "      <td>90351</td>\n",
       "      <td>88706</td>\n",
       "      <td>81123</td>\n",
       "    </tr>\n",
       "    <tr>\n",
       "      <th>68354</th>\n",
       "      <td>33950</td>\n",
       "      <td>47433</td>\n",
       "      <td>26945</td>\n",
       "      <td>18234</td>\n",
       "      <td>11865</td>\n",
       "      <td>24011</td>\n",
       "      <td>11368</td>\n",
       "      <td>8449</td>\n",
       "      <td>54130</td>\n",
       "      <td>63834</td>\n",
       "    </tr>\n",
       "    <tr>\n",
       "      <th>762302</th>\n",
       "      <td>89126</td>\n",
       "      <td>42363</td>\n",
       "      <td>11605</td>\n",
       "      <td>79542</td>\n",
       "      <td>9641</td>\n",
       "      <td>15953</td>\n",
       "      <td>35334</td>\n",
       "      <td>78056</td>\n",
       "      <td>81873</td>\n",
       "      <td>34859</td>\n",
       "    </tr>\n",
       "  </tbody>\n",
       "</table>\n",
       "<p>100000 rows × 10 columns</p>\n",
       "</div>"
      ],
      "text/plain": [
       "            A      B      C      D      E      F      G      H      I      J\n",
       "617759  39232  38839  57187  58787  81031  80429  91186  57050  28876  11818\n",
       "693227  30765  91684  97761  47827  70488  49470  63730  43030  56794  97176\n",
       "906065  86942  19520  92810  30451  48667  66297  37356  65799  69073  60694\n",
       "828507  88492  43029  12183  24445  79040  42737  31564  45121  37144  23041\n",
       "869730  73837  47826  49905  23030   5929  58253  99023  63221  48613   2465\n",
       "...       ...    ...    ...    ...    ...    ...    ...    ...    ...    ...\n",
       "599633  95684  49105  81923  81312  76326  87766  73976  22945  17684  49711\n",
       "103907   8662  75900  74461  46949  44094  13294  66541  77393  97152  40926\n",
       "536846  38263  15656  61228  99950  86295  90133  76975  90351  88706  81123\n",
       "68354   33950  47433  26945  18234  11865  24011  11368   8449  54130  63834\n",
       "762302  89126  42363  11605  79542   9641  15953  35334  78056  81873  34859\n",
       "\n",
       "[100000 rows x 10 columns]"
      ]
     },
     "execution_count": 39,
     "metadata": {},
     "output_type": "execute_result"
    }
   ],
   "source": [
    "# Pegando uma fração dos dados e fixando-os\n",
    "df.sample(frac=0.1, random_state=100)"
   ]
  },
  {
   "cell_type": "markdown",
   "metadata": {},
   "source": [
    "# 4. Manipulação de strings - métodos <a name=\"strings\"></a>\n",
    "<div style=\"text-align: right\"\n",
    "     \n",
    "[Voltar ao índice](#Contents)"
   ]
  },
  {
   "cell_type": "code",
   "execution_count": 40,
   "metadata": {
    "ExecuteTime": {
     "end_time": "2021-05-31T10:15:36.733921Z",
     "start_time": "2021-05-31T10:15:36.725926Z"
    }
   },
   "outputs": [],
   "source": [
    "texto = 'texto'"
   ]
  },
  {
   "cell_type": "code",
   "execution_count": 41,
   "metadata": {
    "ExecuteTime": {
     "end_time": "2021-05-31T10:15:41.550985Z",
     "start_time": "2021-05-31T10:15:41.536019Z"
    }
   },
   "outputs": [
    {
     "data": {
      "text/plain": [
       "'otxet'"
      ]
     },
     "execution_count": 41,
     "metadata": {},
     "output_type": "execute_result"
    }
   ],
   "source": [
    "texto[::-1]"
   ]
  },
  {
   "cell_type": "code",
   "execution_count": 42,
   "metadata": {
    "ExecuteTime": {
     "end_time": "2021-05-31T10:19:25.536743Z",
     "start_time": "2021-05-31T10:19:25.522752Z"
    }
   },
   "outputs": [],
   "source": [
    "palindromo = 'apos a sopa'"
   ]
  },
  {
   "cell_type": "code",
   "execution_count": 43,
   "metadata": {
    "ExecuteTime": {
     "end_time": "2021-05-31T10:19:26.240953Z",
     "start_time": "2021-05-31T10:19:26.225962Z"
    }
   },
   "outputs": [
    {
     "data": {
      "text/plain": [
       "'apos a sopa'"
      ]
     },
     "execution_count": 43,
     "metadata": {},
     "output_type": "execute_result"
    }
   ],
   "source": [
    "palindromo[::-1]"
   ]
  },
  {
   "cell_type": "code",
   "execution_count": 44,
   "metadata": {
    "ExecuteTime": {
     "end_time": "2021-06-01T09:56:36.677981Z",
     "start_time": "2021-06-01T09:56:36.662980Z"
    }
   },
   "outputs": [
    {
     "data": {
      "text/plain": [
       "'Texto'"
      ]
     },
     "execution_count": 44,
     "metadata": {},
     "output_type": "execute_result"
    }
   ],
   "source": [
    "texto = 'teXTO'\n",
    "texto.capitalize()"
   ]
  },
  {
   "cell_type": "code",
   "execution_count": 45,
   "metadata": {
    "ExecuteTime": {
     "end_time": "2021-06-01T09:56:49.873292Z",
     "start_time": "2021-06-01T09:56:49.864296Z"
    }
   },
   "outputs": [
    {
     "data": {
      "text/plain": [
       "'texto'"
      ]
     },
     "execution_count": 45,
     "metadata": {},
     "output_type": "execute_result"
    }
   ],
   "source": [
    "texto.lower()"
   ]
  },
  {
   "cell_type": "code",
   "execution_count": 46,
   "metadata": {
    "ExecuteTime": {
     "end_time": "2021-06-01T09:59:28.909681Z",
     "start_time": "2021-06-01T09:59:28.895687Z"
    }
   },
   "outputs": [
    {
     "data": {
      "text/plain": [
       "'TEXTO'"
      ]
     },
     "execution_count": 46,
     "metadata": {},
     "output_type": "execute_result"
    }
   ],
   "source": [
    "texto.upper()"
   ]
  },
  {
   "cell_type": "code",
   "execution_count": 47,
   "metadata": {
    "ExecuteTime": {
     "end_time": "2021-06-01T10:02:02.244478Z",
     "start_time": "2021-06-01T10:02:02.231486Z"
    }
   },
   "outputs": [
    {
     "data": {
      "text/plain": [
       "2"
      ]
     },
     "execution_count": 47,
     "metadata": {},
     "output_type": "execute_result"
    }
   ],
   "source": [
    "# S.find(sub[, start[, end]]) -> int\n",
    "texto.find('X')"
   ]
  },
  {
   "cell_type": "code",
   "execution_count": 48,
   "metadata": {
    "ExecuteTime": {
     "end_time": "2021-06-01T10:16:22.092756Z",
     "start_time": "2021-06-01T10:16:22.076776Z"
    }
   },
   "outputs": [
    {
     "data": {
      "text/plain": [
       "'X'"
      ]
     },
     "execution_count": 48,
     "metadata": {},
     "output_type": "execute_result"
    }
   ],
   "source": [
    "texto[2]"
   ]
  },
  {
   "cell_type": "code",
   "execution_count": 49,
   "metadata": {
    "ExecuteTime": {
     "end_time": "2021-06-01T10:02:03.055975Z",
     "start_time": "2021-06-01T10:02:03.038984Z"
    }
   },
   "outputs": [
    {
     "data": {
      "text/plain": [
       "-1"
      ]
     },
     "execution_count": 49,
     "metadata": {},
     "output_type": "execute_result"
    }
   ],
   "source": [
    "#S.find(sub[, start[, end]]) -> int\n",
    "texto.find('x')"
   ]
  },
  {
   "cell_type": "code",
   "execution_count": 50,
   "metadata": {
    "ExecuteTime": {
     "end_time": "2021-06-01T10:07:22.993769Z",
     "start_time": "2021-06-01T10:07:22.976796Z"
    }
   },
   "outputs": [
    {
     "data": {
      "text/plain": [
       "'testa'"
      ]
     },
     "execution_count": 50,
     "metadata": {},
     "output_type": "execute_result"
    }
   ],
   "source": [
    "#texto.replace(antigo, novo)\n",
    "texto.replace('XTO','sta')"
   ]
  },
  {
   "cell_type": "code",
   "execution_count": null,
   "metadata": {},
   "outputs": [],
   "source": []
  },
  {
   "cell_type": "code",
   "execution_count": null,
   "metadata": {},
   "outputs": [],
   "source": []
  }
 ],
 "metadata": {
  "kernelspec": {
   "display_name": "Python 3 (ipykernel)",
   "language": "python",
   "name": "python3"
  },
  "language_info": {
   "codemirror_mode": {
    "name": "ipython",
    "version": 3
   },
   "file_extension": ".py",
   "mimetype": "text/x-python",
   "name": "python",
   "nbconvert_exporter": "python",
   "pygments_lexer": "ipython3",
   "version": "3.11.5"
  },
  "varInspector": {
   "cols": {
    "lenName": 16,
    "lenType": 16,
    "lenVar": 40
   },
   "kernels_config": {
    "python": {
     "delete_cmd_postfix": "",
     "delete_cmd_prefix": "del ",
     "library": "var_list.py",
     "varRefreshCmd": "print(var_dic_list())"
    },
    "r": {
     "delete_cmd_postfix": ") ",
     "delete_cmd_prefix": "rm(",
     "library": "var_list.r",
     "varRefreshCmd": "cat(var_dic_list()) "
    }
   },
   "types_to_exclude": [
    "module",
    "function",
    "builtin_function_or_method",
    "instance",
    "_Feature"
   ],
   "window_display": false
  }
 },
 "nbformat": 4,
 "nbformat_minor": 4
}
