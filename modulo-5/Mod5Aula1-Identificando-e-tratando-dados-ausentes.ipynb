{
 "cells": [
  {
   "cell_type": "markdown",
   "metadata": {},
   "source": [
    "# 0. Índice <a name=\"Contents\"></a>\n",
    "1. [Importando bibliotecas](#import)\n",
    "2. [Construindo um dataframe](#read)\n",
    "3. [Identificando dados ausentes/missing](#identificando)\n",
    "4. [Tratando dados ausentes/missing](#tratando)\n",
    "5. [Dados duplicados](#duplicados)\n",
    "6. [Mapeamento](#map)\n",
    "\n"
   ]
  },
  {
   "cell_type": "markdown",
   "metadata": {},
   "source": [
    "# 1. Importando bibliotecas <a name=\"import\"></a>\n",
    "\n",
    "<div style=\"text-align: right\"\n",
    "     \n",
    "[Voltar ao índice](#Contents)"
   ]
  },
  {
   "cell_type": "code",
   "execution_count": 1,
   "metadata": {
    "ExecuteTime": {
     "end_time": "2021-06-06T21:12:37.298706Z",
     "start_time": "2021-06-06T21:12:36.656481Z"
    }
   },
   "outputs": [],
   "source": [
    "import pandas as pd\n",
    "import numpy as np"
   ]
  },
  {
   "cell_type": "markdown",
   "metadata": {},
   "source": [
    "# 2. Construindo um dataframe <a name=\"read\"></a>\n",
    "<div style=\"text-align: right\"\n",
    "     \n",
    "[Voltar ao índice](#Contents)"
   ]
  },
  {
   "cell_type": "code",
   "execution_count": 1,
   "metadata": {
    "ExecuteTime": {
     "end_time": "2021-06-06T21:12:37.762376Z",
     "start_time": "2021-06-06T21:12:37.728383Z"
    }
   },
   "outputs": [
    {
     "ename": "NameError",
     "evalue": "name 'pd' is not defined",
     "output_type": "error",
     "traceback": [
      "\u001b[1;31m---------------------------------------------------------------------------\u001b[0m",
      "\u001b[1;31mNameError\u001b[0m                                 Traceback (most recent call last)",
      "Cell \u001b[1;32mIn[1], line 1\u001b[0m\n\u001b[1;32m----> 1\u001b[0m df \u001b[38;5;241m=\u001b[39m pd\u001b[38;5;241m.\u001b[39mDataFrame(\n\u001b[0;32m      2\u001b[0m     np\u001b[38;5;241m.\u001b[39mrandom\u001b[38;5;241m.\u001b[39mrandn(\u001b[38;5;241m9\u001b[39m, \u001b[38;5;241m4\u001b[39m)\u001b[38;5;241m*\u001b[39m\u001b[38;5;241m100\u001b[39m,\n\u001b[0;32m      3\u001b[0m     index\u001b[38;5;241m=\u001b[39m[\u001b[38;5;124m\"\u001b[39m\u001b[38;5;124mA\u001b[39m\u001b[38;5;124m\"\u001b[39m, \u001b[38;5;124m\"\u001b[39m\u001b[38;5;124mB\u001b[39m\u001b[38;5;124m\"\u001b[39m, \u001b[38;5;124m\"\u001b[39m\u001b[38;5;124mC\u001b[39m\u001b[38;5;124m\"\u001b[39m, \u001b[38;5;124m\"\u001b[39m\u001b[38;5;124mD\u001b[39m\u001b[38;5;124m\"\u001b[39m, \u001b[38;5;124m\"\u001b[39m\u001b[38;5;124mE\u001b[39m\u001b[38;5;124m\"\u001b[39m, \u001b[38;5;124m\"\u001b[39m\u001b[38;5;124mF\u001b[39m\u001b[38;5;124m\"\u001b[39m, \u001b[38;5;124m\"\u001b[39m\u001b[38;5;124mG\u001b[39m\u001b[38;5;124m\"\u001b[39m, \u001b[38;5;124m\"\u001b[39m\u001b[38;5;124mH\u001b[39m\u001b[38;5;124m\"\u001b[39m, \u001b[38;5;124m\"\u001b[39m\u001b[38;5;124mI\u001b[39m\u001b[38;5;124m\"\u001b[39m],\n\u001b[0;32m      4\u001b[0m     columns\u001b[38;5;241m=\u001b[39m[\u001b[38;5;124m\"\u001b[39m\u001b[38;5;124mcoluna1\u001b[39m\u001b[38;5;124m\"\u001b[39m, \u001b[38;5;124m\"\u001b[39m\u001b[38;5;124mcoluna2\u001b[39m\u001b[38;5;124m\"\u001b[39m, \u001b[38;5;124m\"\u001b[39m\u001b[38;5;124mcoluna3\u001b[39m\u001b[38;5;124m\"\u001b[39m,\u001b[38;5;124m\"\u001b[39m\u001b[38;5;124mcoluna4\u001b[39m\u001b[38;5;124m\"\u001b[39m],\n\u001b[0;32m      5\u001b[0m )\n\u001b[0;32m      6\u001b[0m df\n",
      "\u001b[1;31mNameError\u001b[0m: name 'pd' is not defined"
     ]
    }
   ],
   "source": [
    "df = pd.DataFrame(\n",
    "    np.random.randn(9, 4)*100,\n",
    "    index=[\"A\", \"B\", \"C\", \"D\", \"E\", \"F\", \"G\", \"H\", \"I\"],\n",
    "    columns=[\"coluna1\", \"coluna2\", \"coluna3\",\"coluna4\"],\n",
    ")\n",
    "df"
   ]
  },
  {
   "cell_type": "code",
   "execution_count": 3,
   "metadata": {
    "ExecuteTime": {
     "end_time": "2021-06-06T21:12:37.905357Z",
     "start_time": "2021-06-06T21:12:37.898346Z"
    }
   },
   "outputs": [
    {
     "data": {
      "text/plain": [
       "coluna1    float64\n",
       "coluna2    float64\n",
       "coluna3    float64\n",
       "coluna4    float64\n",
       "dtype: object"
      ]
     },
     "execution_count": 3,
     "metadata": {},
     "output_type": "execute_result"
    }
   ],
   "source": [
    "df.dtypes"
   ]
  },
  {
   "cell_type": "markdown",
   "metadata": {},
   "source": [
    "## Alterando os tipos de dados"
   ]
  },
  {
   "cell_type": "code",
   "execution_count": 4,
   "metadata": {
    "ExecuteTime": {
     "end_time": "2021-06-06T21:12:38.347455Z",
     "start_time": "2021-06-06T21:12:38.328485Z"
    }
   },
   "outputs": [],
   "source": [
    "df['coluna1'] = df['coluna1'].astype(int)"
   ]
  },
  {
   "cell_type": "code",
   "execution_count": 5,
   "metadata": {
    "ExecuteTime": {
     "end_time": "2021-06-06T21:12:38.691540Z",
     "start_time": "2021-06-06T21:12:38.682542Z"
    }
   },
   "outputs": [
    {
     "data": {
      "text/plain": [
       "coluna1      int32\n",
       "coluna2    float64\n",
       "coluna3    float64\n",
       "coluna4    float64\n",
       "dtype: object"
      ]
     },
     "execution_count": 5,
     "metadata": {},
     "output_type": "execute_result"
    }
   ],
   "source": [
    "df.dtypes"
   ]
  },
  {
   "cell_type": "code",
   "execution_count": 6,
   "metadata": {
    "ExecuteTime": {
     "end_time": "2021-06-06T21:12:38.880255Z",
     "start_time": "2021-06-06T21:12:38.862253Z"
    }
   },
   "outputs": [],
   "source": [
    "df['coluna3'] = df['coluna3'].astype(str)"
   ]
  },
  {
   "cell_type": "code",
   "execution_count": 7,
   "metadata": {
    "ExecuteTime": {
     "end_time": "2021-06-06T21:12:39.053345Z",
     "start_time": "2021-06-06T21:12:39.040378Z"
    }
   },
   "outputs": [
    {
     "data": {
      "text/plain": [
       "coluna1      int32\n",
       "coluna2    float64\n",
       "coluna3     object\n",
       "coluna4    float64\n",
       "dtype: object"
      ]
     },
     "execution_count": 7,
     "metadata": {},
     "output_type": "execute_result"
    }
   ],
   "source": [
    "df.dtypes"
   ]
  },
  {
   "cell_type": "code",
   "execution_count": 8,
   "metadata": {
    "ExecuteTime": {
     "end_time": "2021-06-06T21:12:39.242790Z",
     "start_time": "2021-06-06T21:12:39.218792Z"
    },
    "scrolled": true
   },
   "outputs": [
    {
     "data": {
      "text/html": [
       "<div>\n",
       "<style scoped>\n",
       "    .dataframe tbody tr th:only-of-type {\n",
       "        vertical-align: middle;\n",
       "    }\n",
       "\n",
       "    .dataframe tbody tr th {\n",
       "        vertical-align: top;\n",
       "    }\n",
       "\n",
       "    .dataframe thead th {\n",
       "        text-align: right;\n",
       "    }\n",
       "</style>\n",
       "<table border=\"1\" class=\"dataframe\">\n",
       "  <thead>\n",
       "    <tr style=\"text-align: right;\">\n",
       "      <th></th>\n",
       "      <th>coluna1</th>\n",
       "      <th>coluna2</th>\n",
       "      <th>coluna3</th>\n",
       "      <th>coluna4</th>\n",
       "    </tr>\n",
       "  </thead>\n",
       "  <tbody>\n",
       "    <tr>\n",
       "      <th>A</th>\n",
       "      <td>-69</td>\n",
       "      <td>-174.986132</td>\n",
       "      <td>-203.24109550481583</td>\n",
       "      <td>167.651645</td>\n",
       "    </tr>\n",
       "    <tr>\n",
       "      <th>B</th>\n",
       "      <td>-153</td>\n",
       "      <td>97.597725</td>\n",
       "      <td>-83.31828848813893</td>\n",
       "      <td>-7.887803</td>\n",
       "    </tr>\n",
       "    <tr>\n",
       "      <th>C</th>\n",
       "      <td>-59</td>\n",
       "      <td>59.896312</td>\n",
       "      <td>-111.21779079311563</td>\n",
       "      <td>-101.685820</td>\n",
       "    </tr>\n",
       "    <tr>\n",
       "      <th>D</th>\n",
       "      <td>148</td>\n",
       "      <td>-45.905371</td>\n",
       "      <td>-21.505342004482493</td>\n",
       "      <td>-1.890468</td>\n",
       "    </tr>\n",
       "    <tr>\n",
       "      <th>E</th>\n",
       "      <td>-143</td>\n",
       "      <td>-135.227579</td>\n",
       "      <td>-128.2657137951501</td>\n",
       "      <td>31.991624</td>\n",
       "    </tr>\n",
       "    <tr>\n",
       "      <th>F</th>\n",
       "      <td>84</td>\n",
       "      <td>199.826939</td>\n",
       "      <td>-101.26850129528515</td>\n",
       "      <td>129.207003</td>\n",
       "    </tr>\n",
       "    <tr>\n",
       "      <th>G</th>\n",
       "      <td>-17</td>\n",
       "      <td>-83.565887</td>\n",
       "      <td>-133.29952942010016</td>\n",
       "      <td>92.049175</td>\n",
       "    </tr>\n",
       "    <tr>\n",
       "      <th>H</th>\n",
       "      <td>-145</td>\n",
       "      <td>91.317843</td>\n",
       "      <td>9.811846029854442</td>\n",
       "      <td>-121.470039</td>\n",
       "    </tr>\n",
       "    <tr>\n",
       "      <th>I</th>\n",
       "      <td>101</td>\n",
       "      <td>47.333011</td>\n",
       "      <td>111.55209790468663</td>\n",
       "      <td>-92.941426</td>\n",
       "    </tr>\n",
       "  </tbody>\n",
       "</table>\n",
       "</div>"
      ],
      "text/plain": [
       "   coluna1     coluna2              coluna3     coluna4\n",
       "A      -69 -174.986132  -203.24109550481583  167.651645\n",
       "B     -153   97.597725   -83.31828848813893   -7.887803\n",
       "C      -59   59.896312  -111.21779079311563 -101.685820\n",
       "D      148  -45.905371  -21.505342004482493   -1.890468\n",
       "E     -143 -135.227579   -128.2657137951501   31.991624\n",
       "F       84  199.826939  -101.26850129528515  129.207003\n",
       "G      -17  -83.565887  -133.29952942010016   92.049175\n",
       "H     -145   91.317843    9.811846029854442 -121.470039\n",
       "I      101   47.333011   111.55209790468663  -92.941426"
      ]
     },
     "execution_count": 8,
     "metadata": {},
     "output_type": "execute_result"
    }
   ],
   "source": [
    "df"
   ]
  },
  {
   "cell_type": "markdown",
   "metadata": {},
   "source": [
    "## Acrescentando dados faltantes na tabela"
   ]
  },
  {
   "cell_type": "code",
   "execution_count": 9,
   "metadata": {
    "ExecuteTime": {
     "end_time": "2021-06-06T21:12:39.573279Z",
     "start_time": "2021-06-06T21:12:39.564267Z"
    }
   },
   "outputs": [
    {
     "data": {
      "text/plain": [
       "'-128.2657137951501'"
      ]
     },
     "execution_count": 9,
     "metadata": {},
     "output_type": "execute_result"
    }
   ],
   "source": [
    "df.iloc[4,2]"
   ]
  },
  {
   "cell_type": "code",
   "execution_count": 10,
   "metadata": {
    "ExecuteTime": {
     "end_time": "2021-06-06T21:12:39.746161Z",
     "start_time": "2021-06-06T21:12:39.738166Z"
    }
   },
   "outputs": [],
   "source": [
    "df.iloc[4,2] = np.nan"
   ]
  },
  {
   "cell_type": "code",
   "execution_count": 11,
   "metadata": {
    "ExecuteTime": {
     "end_time": "2021-06-06T21:12:39.934151Z",
     "start_time": "2021-06-06T21:12:39.917147Z"
    }
   },
   "outputs": [
    {
     "data": {
      "text/html": [
       "<div>\n",
       "<style scoped>\n",
       "    .dataframe tbody tr th:only-of-type {\n",
       "        vertical-align: middle;\n",
       "    }\n",
       "\n",
       "    .dataframe tbody tr th {\n",
       "        vertical-align: top;\n",
       "    }\n",
       "\n",
       "    .dataframe thead th {\n",
       "        text-align: right;\n",
       "    }\n",
       "</style>\n",
       "<table border=\"1\" class=\"dataframe\">\n",
       "  <thead>\n",
       "    <tr style=\"text-align: right;\">\n",
       "      <th></th>\n",
       "      <th>coluna1</th>\n",
       "      <th>coluna2</th>\n",
       "      <th>coluna3</th>\n",
       "      <th>coluna4</th>\n",
       "    </tr>\n",
       "  </thead>\n",
       "  <tbody>\n",
       "    <tr>\n",
       "      <th>A</th>\n",
       "      <td>-69</td>\n",
       "      <td>-174.986132</td>\n",
       "      <td>-203.24109550481583</td>\n",
       "      <td>167.651645</td>\n",
       "    </tr>\n",
       "    <tr>\n",
       "      <th>B</th>\n",
       "      <td>-153</td>\n",
       "      <td>97.597725</td>\n",
       "      <td>-83.31828848813893</td>\n",
       "      <td>-7.887803</td>\n",
       "    </tr>\n",
       "    <tr>\n",
       "      <th>C</th>\n",
       "      <td>-59</td>\n",
       "      <td>59.896312</td>\n",
       "      <td>-111.21779079311563</td>\n",
       "      <td>-101.685820</td>\n",
       "    </tr>\n",
       "    <tr>\n",
       "      <th>D</th>\n",
       "      <td>148</td>\n",
       "      <td>-45.905371</td>\n",
       "      <td>-21.505342004482493</td>\n",
       "      <td>-1.890468</td>\n",
       "    </tr>\n",
       "    <tr>\n",
       "      <th>E</th>\n",
       "      <td>-143</td>\n",
       "      <td>-135.227579</td>\n",
       "      <td>NaN</td>\n",
       "      <td>31.991624</td>\n",
       "    </tr>\n",
       "    <tr>\n",
       "      <th>F</th>\n",
       "      <td>84</td>\n",
       "      <td>199.826939</td>\n",
       "      <td>-101.26850129528515</td>\n",
       "      <td>129.207003</td>\n",
       "    </tr>\n",
       "    <tr>\n",
       "      <th>G</th>\n",
       "      <td>-17</td>\n",
       "      <td>-83.565887</td>\n",
       "      <td>-133.29952942010016</td>\n",
       "      <td>92.049175</td>\n",
       "    </tr>\n",
       "    <tr>\n",
       "      <th>H</th>\n",
       "      <td>-145</td>\n",
       "      <td>91.317843</td>\n",
       "      <td>9.811846029854442</td>\n",
       "      <td>-121.470039</td>\n",
       "    </tr>\n",
       "    <tr>\n",
       "      <th>I</th>\n",
       "      <td>101</td>\n",
       "      <td>47.333011</td>\n",
       "      <td>111.55209790468663</td>\n",
       "      <td>-92.941426</td>\n",
       "    </tr>\n",
       "  </tbody>\n",
       "</table>\n",
       "</div>"
      ],
      "text/plain": [
       "   coluna1     coluna2              coluna3     coluna4\n",
       "A      -69 -174.986132  -203.24109550481583  167.651645\n",
       "B     -153   97.597725   -83.31828848813893   -7.887803\n",
       "C      -59   59.896312  -111.21779079311563 -101.685820\n",
       "D      148  -45.905371  -21.505342004482493   -1.890468\n",
       "E     -143 -135.227579                  NaN   31.991624\n",
       "F       84  199.826939  -101.26850129528515  129.207003\n",
       "G      -17  -83.565887  -133.29952942010016   92.049175\n",
       "H     -145   91.317843    9.811846029854442 -121.470039\n",
       "I      101   47.333011   111.55209790468663  -92.941426"
      ]
     },
     "execution_count": 11,
     "metadata": {},
     "output_type": "execute_result"
    }
   ],
   "source": [
    "df"
   ]
  },
  {
   "cell_type": "code",
   "execution_count": 12,
   "metadata": {
    "ExecuteTime": {
     "end_time": "2021-06-06T21:12:40.123274Z",
     "start_time": "2021-06-06T21:12:40.103273Z"
    }
   },
   "outputs": [],
   "source": [
    "df.iloc[1,0] = np.nan\n",
    "df.iloc[4,0] = np.nan\n",
    "df.iloc[3,0] = np.nan\n",
    "df.iloc[8,0] = np.nan\n",
    "df.iloc[6,0] = np.nan\n",
    "df.iloc[4,3] = np.nan\n",
    "df.iloc[4,3] = np.nan\n",
    "df.iloc[8,3] = np.nan"
   ]
  },
  {
   "cell_type": "code",
   "execution_count": 13,
   "metadata": {
    "ExecuteTime": {
     "end_time": "2021-06-06T21:12:40.313753Z",
     "start_time": "2021-06-06T21:12:40.295768Z"
    }
   },
   "outputs": [
    {
     "data": {
      "text/html": [
       "<div>\n",
       "<style scoped>\n",
       "    .dataframe tbody tr th:only-of-type {\n",
       "        vertical-align: middle;\n",
       "    }\n",
       "\n",
       "    .dataframe tbody tr th {\n",
       "        vertical-align: top;\n",
       "    }\n",
       "\n",
       "    .dataframe thead th {\n",
       "        text-align: right;\n",
       "    }\n",
       "</style>\n",
       "<table border=\"1\" class=\"dataframe\">\n",
       "  <thead>\n",
       "    <tr style=\"text-align: right;\">\n",
       "      <th></th>\n",
       "      <th>coluna1</th>\n",
       "      <th>coluna2</th>\n",
       "      <th>coluna3</th>\n",
       "      <th>coluna4</th>\n",
       "    </tr>\n",
       "  </thead>\n",
       "  <tbody>\n",
       "    <tr>\n",
       "      <th>A</th>\n",
       "      <td>-69.0</td>\n",
       "      <td>-174.986132</td>\n",
       "      <td>-203.24109550481583</td>\n",
       "      <td>167.651645</td>\n",
       "    </tr>\n",
       "    <tr>\n",
       "      <th>B</th>\n",
       "      <td>NaN</td>\n",
       "      <td>97.597725</td>\n",
       "      <td>-83.31828848813893</td>\n",
       "      <td>-7.887803</td>\n",
       "    </tr>\n",
       "    <tr>\n",
       "      <th>C</th>\n",
       "      <td>-59.0</td>\n",
       "      <td>59.896312</td>\n",
       "      <td>-111.21779079311563</td>\n",
       "      <td>-101.685820</td>\n",
       "    </tr>\n",
       "    <tr>\n",
       "      <th>D</th>\n",
       "      <td>NaN</td>\n",
       "      <td>-45.905371</td>\n",
       "      <td>-21.505342004482493</td>\n",
       "      <td>-1.890468</td>\n",
       "    </tr>\n",
       "    <tr>\n",
       "      <th>E</th>\n",
       "      <td>NaN</td>\n",
       "      <td>-135.227579</td>\n",
       "      <td>NaN</td>\n",
       "      <td>NaN</td>\n",
       "    </tr>\n",
       "    <tr>\n",
       "      <th>F</th>\n",
       "      <td>84.0</td>\n",
       "      <td>199.826939</td>\n",
       "      <td>-101.26850129528515</td>\n",
       "      <td>129.207003</td>\n",
       "    </tr>\n",
       "    <tr>\n",
       "      <th>G</th>\n",
       "      <td>NaN</td>\n",
       "      <td>-83.565887</td>\n",
       "      <td>-133.29952942010016</td>\n",
       "      <td>92.049175</td>\n",
       "    </tr>\n",
       "    <tr>\n",
       "      <th>H</th>\n",
       "      <td>-145.0</td>\n",
       "      <td>91.317843</td>\n",
       "      <td>9.811846029854442</td>\n",
       "      <td>-121.470039</td>\n",
       "    </tr>\n",
       "    <tr>\n",
       "      <th>I</th>\n",
       "      <td>NaN</td>\n",
       "      <td>47.333011</td>\n",
       "      <td>111.55209790468663</td>\n",
       "      <td>NaN</td>\n",
       "    </tr>\n",
       "  </tbody>\n",
       "</table>\n",
       "</div>"
      ],
      "text/plain": [
       "   coluna1     coluna2              coluna3     coluna4\n",
       "A    -69.0 -174.986132  -203.24109550481583  167.651645\n",
       "B      NaN   97.597725   -83.31828848813893   -7.887803\n",
       "C    -59.0   59.896312  -111.21779079311563 -101.685820\n",
       "D      NaN  -45.905371  -21.505342004482493   -1.890468\n",
       "E      NaN -135.227579                  NaN         NaN\n",
       "F     84.0  199.826939  -101.26850129528515  129.207003\n",
       "G      NaN  -83.565887  -133.29952942010016   92.049175\n",
       "H   -145.0   91.317843    9.811846029854442 -121.470039\n",
       "I      NaN   47.333011   111.55209790468663         NaN"
      ]
     },
     "execution_count": 13,
     "metadata": {},
     "output_type": "execute_result"
    }
   ],
   "source": [
    "df"
   ]
  },
  {
   "cell_type": "code",
   "execution_count": 14,
   "metadata": {
    "ExecuteTime": {
     "end_time": "2021-06-06T21:12:40.830082Z",
     "start_time": "2021-06-06T21:12:40.811093Z"
    }
   },
   "outputs": [
    {
     "data": {
      "text/plain": [
       "coluna1    float64\n",
       "coluna2    float64\n",
       "coluna3     object\n",
       "coluna4    float64\n",
       "dtype: object"
      ]
     },
     "execution_count": 14,
     "metadata": {},
     "output_type": "execute_result"
    }
   ],
   "source": [
    "# Os tipos de dados podem mudar após acrescentar um dado faltante\n",
    "df.dtypes"
   ]
  },
  {
   "cell_type": "markdown",
   "metadata": {},
   "source": [
    "# 3. Identificando dados ausentes <a name=\"identificando\"></a>\n",
    "<div style=\"text-align: right\"\n",
    "     \n",
    "[Voltar ao índice](#Contents)"
   ]
  },
  {
   "cell_type": "code",
   "execution_count": 15,
   "metadata": {
    "ExecuteTime": {
     "end_time": "2021-06-06T21:12:42.301727Z",
     "start_time": "2021-06-06T21:12:42.292736Z"
    }
   },
   "outputs": [
    {
     "data": {
      "text/html": [
       "<div>\n",
       "<style scoped>\n",
       "    .dataframe tbody tr th:only-of-type {\n",
       "        vertical-align: middle;\n",
       "    }\n",
       "\n",
       "    .dataframe tbody tr th {\n",
       "        vertical-align: top;\n",
       "    }\n",
       "\n",
       "    .dataframe thead th {\n",
       "        text-align: right;\n",
       "    }\n",
       "</style>\n",
       "<table border=\"1\" class=\"dataframe\">\n",
       "  <thead>\n",
       "    <tr style=\"text-align: right;\">\n",
       "      <th></th>\n",
       "      <th>coluna1</th>\n",
       "      <th>coluna2</th>\n",
       "      <th>coluna3</th>\n",
       "      <th>coluna4</th>\n",
       "    </tr>\n",
       "  </thead>\n",
       "  <tbody>\n",
       "    <tr>\n",
       "      <th>A</th>\n",
       "      <td>False</td>\n",
       "      <td>False</td>\n",
       "      <td>False</td>\n",
       "      <td>False</td>\n",
       "    </tr>\n",
       "    <tr>\n",
       "      <th>B</th>\n",
       "      <td>True</td>\n",
       "      <td>False</td>\n",
       "      <td>False</td>\n",
       "      <td>False</td>\n",
       "    </tr>\n",
       "    <tr>\n",
       "      <th>C</th>\n",
       "      <td>False</td>\n",
       "      <td>False</td>\n",
       "      <td>False</td>\n",
       "      <td>False</td>\n",
       "    </tr>\n",
       "    <tr>\n",
       "      <th>D</th>\n",
       "      <td>True</td>\n",
       "      <td>False</td>\n",
       "      <td>False</td>\n",
       "      <td>False</td>\n",
       "    </tr>\n",
       "    <tr>\n",
       "      <th>E</th>\n",
       "      <td>True</td>\n",
       "      <td>False</td>\n",
       "      <td>True</td>\n",
       "      <td>True</td>\n",
       "    </tr>\n",
       "    <tr>\n",
       "      <th>F</th>\n",
       "      <td>False</td>\n",
       "      <td>False</td>\n",
       "      <td>False</td>\n",
       "      <td>False</td>\n",
       "    </tr>\n",
       "    <tr>\n",
       "      <th>G</th>\n",
       "      <td>True</td>\n",
       "      <td>False</td>\n",
       "      <td>False</td>\n",
       "      <td>False</td>\n",
       "    </tr>\n",
       "    <tr>\n",
       "      <th>H</th>\n",
       "      <td>False</td>\n",
       "      <td>False</td>\n",
       "      <td>False</td>\n",
       "      <td>False</td>\n",
       "    </tr>\n",
       "    <tr>\n",
       "      <th>I</th>\n",
       "      <td>True</td>\n",
       "      <td>False</td>\n",
       "      <td>False</td>\n",
       "      <td>True</td>\n",
       "    </tr>\n",
       "  </tbody>\n",
       "</table>\n",
       "</div>"
      ],
      "text/plain": [
       "   coluna1  coluna2  coluna3  coluna4\n",
       "A    False    False    False    False\n",
       "B     True    False    False    False\n",
       "C    False    False    False    False\n",
       "D     True    False    False    False\n",
       "E     True    False     True     True\n",
       "F    False    False    False    False\n",
       "G     True    False    False    False\n",
       "H    False    False    False    False\n",
       "I     True    False    False     True"
      ]
     },
     "execution_count": 15,
     "metadata": {},
     "output_type": "execute_result"
    }
   ],
   "source": [
    "df.isna()"
   ]
  },
  {
   "cell_type": "code",
   "execution_count": 16,
   "metadata": {
    "ExecuteTime": {
     "end_time": "2021-06-06T21:13:06.490476Z",
     "start_time": "2021-06-06T21:13:06.475491Z"
    }
   },
   "outputs": [
    {
     "data": {
      "text/html": [
       "<div>\n",
       "<style scoped>\n",
       "    .dataframe tbody tr th:only-of-type {\n",
       "        vertical-align: middle;\n",
       "    }\n",
       "\n",
       "    .dataframe tbody tr th {\n",
       "        vertical-align: top;\n",
       "    }\n",
       "\n",
       "    .dataframe thead th {\n",
       "        text-align: right;\n",
       "    }\n",
       "</style>\n",
       "<table border=\"1\" class=\"dataframe\">\n",
       "  <thead>\n",
       "    <tr style=\"text-align: right;\">\n",
       "      <th></th>\n",
       "      <th>coluna1</th>\n",
       "      <th>coluna2</th>\n",
       "      <th>coluna3</th>\n",
       "      <th>coluna4</th>\n",
       "    </tr>\n",
       "  </thead>\n",
       "  <tbody>\n",
       "    <tr>\n",
       "      <th>A</th>\n",
       "      <td>False</td>\n",
       "      <td>False</td>\n",
       "      <td>False</td>\n",
       "      <td>False</td>\n",
       "    </tr>\n",
       "    <tr>\n",
       "      <th>B</th>\n",
       "      <td>True</td>\n",
       "      <td>False</td>\n",
       "      <td>False</td>\n",
       "      <td>False</td>\n",
       "    </tr>\n",
       "    <tr>\n",
       "      <th>C</th>\n",
       "      <td>False</td>\n",
       "      <td>False</td>\n",
       "      <td>False</td>\n",
       "      <td>False</td>\n",
       "    </tr>\n",
       "    <tr>\n",
       "      <th>D</th>\n",
       "      <td>True</td>\n",
       "      <td>False</td>\n",
       "      <td>False</td>\n",
       "      <td>False</td>\n",
       "    </tr>\n",
       "    <tr>\n",
       "      <th>E</th>\n",
       "      <td>True</td>\n",
       "      <td>False</td>\n",
       "      <td>True</td>\n",
       "      <td>True</td>\n",
       "    </tr>\n",
       "    <tr>\n",
       "      <th>F</th>\n",
       "      <td>False</td>\n",
       "      <td>False</td>\n",
       "      <td>False</td>\n",
       "      <td>False</td>\n",
       "    </tr>\n",
       "    <tr>\n",
       "      <th>G</th>\n",
       "      <td>True</td>\n",
       "      <td>False</td>\n",
       "      <td>False</td>\n",
       "      <td>False</td>\n",
       "    </tr>\n",
       "    <tr>\n",
       "      <th>H</th>\n",
       "      <td>False</td>\n",
       "      <td>False</td>\n",
       "      <td>False</td>\n",
       "      <td>False</td>\n",
       "    </tr>\n",
       "    <tr>\n",
       "      <th>I</th>\n",
       "      <td>True</td>\n",
       "      <td>False</td>\n",
       "      <td>False</td>\n",
       "      <td>True</td>\n",
       "    </tr>\n",
       "  </tbody>\n",
       "</table>\n",
       "</div>"
      ],
      "text/plain": [
       "   coluna1  coluna2  coluna3  coluna4\n",
       "A    False    False    False    False\n",
       "B     True    False    False    False\n",
       "C    False    False    False    False\n",
       "D     True    False    False    False\n",
       "E     True    False     True     True\n",
       "F    False    False    False    False\n",
       "G     True    False    False    False\n",
       "H    False    False    False    False\n",
       "I     True    False    False     True"
      ]
     },
     "execution_count": 16,
     "metadata": {},
     "output_type": "execute_result"
    }
   ],
   "source": [
    "# Alias do isna\n",
    "df.isnull()"
   ]
  },
  {
   "cell_type": "code",
   "execution_count": 17,
   "metadata": {
    "ExecuteTime": {
     "end_time": "2021-05-29T10:33:31.745593Z",
     "start_time": "2021-05-29T10:33:31.736599Z"
    }
   },
   "outputs": [
    {
     "data": {
      "text/plain": [
       "A    False\n",
       "B     True\n",
       "C    False\n",
       "D     True\n",
       "E     True\n",
       "F    False\n",
       "G     True\n",
       "H    False\n",
       "I     True\n",
       "Name: coluna1, dtype: bool"
      ]
     },
     "execution_count": 17,
     "metadata": {},
     "output_type": "execute_result"
    }
   ],
   "source": [
    "df['coluna1'].isna()"
   ]
  },
  {
   "cell_type": "code",
   "execution_count": 19,
   "metadata": {
    "ExecuteTime": {
     "end_time": "2021-05-29T10:33:38.890443Z",
     "start_time": "2021-05-29T10:33:38.880435Z"
    }
   },
   "outputs": [
    {
     "data": {
      "text/html": [
       "<div>\n",
       "<style scoped>\n",
       "    .dataframe tbody tr th:only-of-type {\n",
       "        vertical-align: middle;\n",
       "    }\n",
       "\n",
       "    .dataframe tbody tr th {\n",
       "        vertical-align: top;\n",
       "    }\n",
       "\n",
       "    .dataframe thead th {\n",
       "        text-align: right;\n",
       "    }\n",
       "</style>\n",
       "<table border=\"1\" class=\"dataframe\">\n",
       "  <thead>\n",
       "    <tr style=\"text-align: right;\">\n",
       "      <th></th>\n",
       "      <th>coluna1</th>\n",
       "      <th>coluna2</th>\n",
       "      <th>coluna3</th>\n",
       "      <th>coluna4</th>\n",
       "    </tr>\n",
       "  </thead>\n",
       "  <tbody>\n",
       "    <tr>\n",
       "      <th>B</th>\n",
       "      <td>NaN</td>\n",
       "      <td>97.597725</td>\n",
       "      <td>-83.31828848813893</td>\n",
       "      <td>-7.887803</td>\n",
       "    </tr>\n",
       "    <tr>\n",
       "      <th>D</th>\n",
       "      <td>NaN</td>\n",
       "      <td>-45.905371</td>\n",
       "      <td>-21.505342004482493</td>\n",
       "      <td>-1.890468</td>\n",
       "    </tr>\n",
       "    <tr>\n",
       "      <th>E</th>\n",
       "      <td>NaN</td>\n",
       "      <td>-135.227579</td>\n",
       "      <td>NaN</td>\n",
       "      <td>NaN</td>\n",
       "    </tr>\n",
       "    <tr>\n",
       "      <th>G</th>\n",
       "      <td>NaN</td>\n",
       "      <td>-83.565887</td>\n",
       "      <td>-133.29952942010016</td>\n",
       "      <td>92.049175</td>\n",
       "    </tr>\n",
       "    <tr>\n",
       "      <th>I</th>\n",
       "      <td>NaN</td>\n",
       "      <td>47.333011</td>\n",
       "      <td>111.55209790468663</td>\n",
       "      <td>NaN</td>\n",
       "    </tr>\n",
       "  </tbody>\n",
       "</table>\n",
       "</div>"
      ],
      "text/plain": [
       "   coluna1     coluna2              coluna3    coluna4\n",
       "B      NaN   97.597725   -83.31828848813893  -7.887803\n",
       "D      NaN  -45.905371  -21.505342004482493  -1.890468\n",
       "E      NaN -135.227579                  NaN        NaN\n",
       "G      NaN  -83.565887  -133.29952942010016  92.049175\n",
       "I      NaN   47.333011   111.55209790468663        NaN"
      ]
     },
     "execution_count": 19,
     "metadata": {},
     "output_type": "execute_result"
    }
   ],
   "source": [
    "df[df['coluna1'].isna()]"
   ]
  },
  {
   "cell_type": "code",
   "execution_count": 20,
   "metadata": {
    "ExecuteTime": {
     "end_time": "2021-05-29T10:33:49.406523Z",
     "start_time": "2021-05-29T10:33:49.398526Z"
    }
   },
   "outputs": [
    {
     "data": {
      "text/html": [
       "<div>\n",
       "<style scoped>\n",
       "    .dataframe tbody tr th:only-of-type {\n",
       "        vertical-align: middle;\n",
       "    }\n",
       "\n",
       "    .dataframe tbody tr th {\n",
       "        vertical-align: top;\n",
       "    }\n",
       "\n",
       "    .dataframe thead th {\n",
       "        text-align: right;\n",
       "    }\n",
       "</style>\n",
       "<table border=\"1\" class=\"dataframe\">\n",
       "  <thead>\n",
       "    <tr style=\"text-align: right;\">\n",
       "      <th></th>\n",
       "      <th>coluna1</th>\n",
       "      <th>coluna2</th>\n",
       "      <th>coluna3</th>\n",
       "      <th>coluna4</th>\n",
       "    </tr>\n",
       "  </thead>\n",
       "  <tbody>\n",
       "    <tr>\n",
       "      <th>A</th>\n",
       "      <td>-69.0</td>\n",
       "      <td>-174.986132</td>\n",
       "      <td>-203.24109550481583</td>\n",
       "      <td>167.651645</td>\n",
       "    </tr>\n",
       "    <tr>\n",
       "      <th>C</th>\n",
       "      <td>-59.0</td>\n",
       "      <td>59.896312</td>\n",
       "      <td>-111.21779079311563</td>\n",
       "      <td>-101.685820</td>\n",
       "    </tr>\n",
       "    <tr>\n",
       "      <th>F</th>\n",
       "      <td>84.0</td>\n",
       "      <td>199.826939</td>\n",
       "      <td>-101.26850129528515</td>\n",
       "      <td>129.207003</td>\n",
       "    </tr>\n",
       "    <tr>\n",
       "      <th>H</th>\n",
       "      <td>-145.0</td>\n",
       "      <td>91.317843</td>\n",
       "      <td>9.811846029854442</td>\n",
       "      <td>-121.470039</td>\n",
       "    </tr>\n",
       "  </tbody>\n",
       "</table>\n",
       "</div>"
      ],
      "text/plain": [
       "   coluna1     coluna2              coluna3     coluna4\n",
       "A    -69.0 -174.986132  -203.24109550481583  167.651645\n",
       "C    -59.0   59.896312  -111.21779079311563 -101.685820\n",
       "F     84.0  199.826939  -101.26850129528515  129.207003\n",
       "H   -145.0   91.317843    9.811846029854442 -121.470039"
      ]
     },
     "execution_count": 20,
     "metadata": {},
     "output_type": "execute_result"
    }
   ],
   "source": [
    "df[~df['coluna1'].isna()]"
   ]
  },
  {
   "cell_type": "code",
   "execution_count": 24,
   "metadata": {
    "ExecuteTime": {
     "end_time": "2021-05-29T10:35:24.547767Z",
     "start_time": "2021-05-29T10:35:24.535761Z"
    }
   },
   "outputs": [
    {
     "data": {
      "text/plain": [
       "A    -69.0\n",
       "B      NaN\n",
       "C    -59.0\n",
       "D      NaN\n",
       "E      NaN\n",
       "F     84.0\n",
       "G      NaN\n",
       "H   -145.0\n",
       "I      NaN\n",
       "Name: coluna1, dtype: float64"
      ]
     },
     "execution_count": 24,
     "metadata": {},
     "output_type": "execute_result"
    }
   ],
   "source": [
    "df['coluna1']"
   ]
  },
  {
   "cell_type": "code",
   "execution_count": 25,
   "metadata": {
    "ExecuteTime": {
     "end_time": "2021-05-29T10:35:44.961583Z",
     "start_time": "2021-05-29T10:35:44.951574Z"
    }
   },
   "outputs": [
    {
     "data": {
      "text/plain": [
       "A    False\n",
       "B     True\n",
       "C    False\n",
       "D     True\n",
       "E     True\n",
       "F    False\n",
       "G     True\n",
       "H    False\n",
       "I     True\n",
       "Name: coluna1, dtype: bool"
      ]
     },
     "execution_count": 25,
     "metadata": {},
     "output_type": "execute_result"
    }
   ],
   "source": [
    "df['coluna1'].isna()"
   ]
  },
  {
   "cell_type": "code",
   "execution_count": 26,
   "metadata": {
    "ExecuteTime": {
     "end_time": "2021-05-29T10:35:18.466672Z",
     "start_time": "2021-05-29T10:35:18.455674Z"
    }
   },
   "outputs": [
    {
     "data": {
      "text/plain": [
       "5"
      ]
     },
     "execution_count": 26,
     "metadata": {},
     "output_type": "execute_result"
    }
   ],
   "source": [
    "df['coluna1'].isna().sum()"
   ]
  },
  {
   "cell_type": "code",
   "execution_count": 27,
   "metadata": {
    "ExecuteTime": {
     "end_time": "2021-05-29T13:38:36.366884Z",
     "start_time": "2021-05-29T13:38:36.345898Z"
    }
   },
   "outputs": [
    {
     "data": {
      "text/plain": [
       "coluna1    5\n",
       "coluna2    0\n",
       "coluna3    1\n",
       "coluna4    2\n",
       "dtype: int64"
      ]
     },
     "execution_count": 27,
     "metadata": {},
     "output_type": "execute_result"
    }
   ],
   "source": [
    "df.isna().sum()"
   ]
  },
  {
   "cell_type": "code",
   "execution_count": 28,
   "metadata": {
    "ExecuteTime": {
     "end_time": "2021-05-29T10:36:46.574041Z",
     "start_time": "2021-05-29T10:36:46.567015Z"
    }
   },
   "outputs": [
    {
     "data": {
      "text/plain": [
       "A   -174.986132\n",
       "B     97.597725\n",
       "C     59.896312\n",
       "D    -45.905371\n",
       "E   -135.227579\n",
       "F    199.826939\n",
       "G    -83.565887\n",
       "H     91.317843\n",
       "I     47.333011\n",
       "Name: coluna2, dtype: float64"
      ]
     },
     "execution_count": 28,
     "metadata": {},
     "output_type": "execute_result"
    }
   ],
   "source": [
    "df['coluna2']"
   ]
  },
  {
   "cell_type": "code",
   "execution_count": 29,
   "metadata": {
    "ExecuteTime": {
     "end_time": "2021-05-29T10:36:42.849653Z",
     "start_time": "2021-05-29T10:36:42.839658Z"
    }
   },
   "outputs": [
    {
     "data": {
      "text/plain": [
       "0"
      ]
     },
     "execution_count": 29,
     "metadata": {},
     "output_type": "execute_result"
    }
   ],
   "source": [
    "df['coluna2'].isna().sum()"
   ]
  },
  {
   "cell_type": "code",
   "execution_count": 30,
   "metadata": {
    "ExecuteTime": {
     "end_time": "2021-05-29T14:12:47.717668Z",
     "start_time": "2021-05-29T14:12:47.710684Z"
    }
   },
   "outputs": [
    {
     "data": {
      "text/plain": [
       "coluna1    55.555556\n",
       "coluna2     0.000000\n",
       "coluna3    11.111111\n",
       "coluna4    22.222222\n",
       "dtype: float64"
      ]
     },
     "execution_count": 30,
     "metadata": {},
     "output_type": "execute_result"
    }
   ],
   "source": [
    "percentage = (df.isnull().sum() / len(df)) * 100\n",
    "percentage"
   ]
  },
  {
   "cell_type": "markdown",
   "metadata": {},
   "source": [
    "# 4. Tratando dados ausentes <a name=\"tratando\"></a>\n",
    "<div style=\"text-align: right\"\n",
    "     \n",
    "[Voltar ao índice](#Contents)"
   ]
  },
  {
   "cell_type": "code",
   "execution_count": 31,
   "metadata": {
    "ExecuteTime": {
     "end_time": "2021-05-29T10:41:56.025867Z",
     "start_time": "2021-05-29T10:41:56.013875Z"
    }
   },
   "outputs": [
    {
     "data": {
      "text/plain": [
       "A    -69.0\n",
       "B      NaN\n",
       "C    -59.0\n",
       "D      NaN\n",
       "E      NaN\n",
       "F     84.0\n",
       "G      NaN\n",
       "H   -145.0\n",
       "I      NaN\n",
       "Name: coluna1, dtype: float64"
      ]
     },
     "execution_count": 31,
     "metadata": {},
     "output_type": "execute_result"
    }
   ],
   "source": [
    "df['coluna1']"
   ]
  },
  {
   "cell_type": "markdown",
   "metadata": {},
   "source": [
    "## Substituindo por 0"
   ]
  },
  {
   "cell_type": "code",
   "execution_count": 32,
   "metadata": {
    "ExecuteTime": {
     "end_time": "2021-05-29T13:12:06.190474Z",
     "start_time": "2021-05-29T13:12:06.172486Z"
    },
    "scrolled": true
   },
   "outputs": [
    {
     "data": {
      "text/plain": [
       "A    -69.0\n",
       "B      0.0\n",
       "C    -59.0\n",
       "D      0.0\n",
       "E      0.0\n",
       "F     84.0\n",
       "G      0.0\n",
       "H   -145.0\n",
       "I      0.0\n",
       "Name: coluna1, dtype: float64"
      ]
     },
     "execution_count": 32,
     "metadata": {},
     "output_type": "execute_result"
    }
   ],
   "source": [
    "# Cria uma nova copia do dataframe com os novos valores\n",
    "df['coluna1'].fillna(0)\n",
    "# Altera os valores no dataframe original\n",
    "# df['coluna1'].fillna(0, inplace=True)"
   ]
  },
  {
   "cell_type": "markdown",
   "metadata": {},
   "source": [
    "## Substituindo pela média"
   ]
  },
  {
   "cell_type": "code",
   "execution_count": 35,
   "metadata": {},
   "outputs": [
    {
     "data": {
      "text/plain": [
       "A    -69.0\n",
       "B      NaN\n",
       "C    -59.0\n",
       "D      NaN\n",
       "E      NaN\n",
       "F     84.0\n",
       "G      NaN\n",
       "H   -145.0\n",
       "I      NaN\n",
       "Name: coluna1, dtype: float64"
      ]
     },
     "execution_count": 35,
     "metadata": {},
     "output_type": "execute_result"
    }
   ],
   "source": [
    "df['coluna1']"
   ]
  },
  {
   "cell_type": "code",
   "execution_count": 36,
   "metadata": {
    "ExecuteTime": {
     "end_time": "2021-05-29T13:14:24.140037Z",
     "start_time": "2021-05-29T13:14:24.127037Z"
    }
   },
   "outputs": [
    {
     "data": {
      "text/plain": [
       "-47.25"
      ]
     },
     "execution_count": 36,
     "metadata": {},
     "output_type": "execute_result"
    }
   ],
   "source": [
    "(-69.0-59.0+84.0-145.0)/4"
   ]
  },
  {
   "cell_type": "code",
   "execution_count": 37,
   "metadata": {
    "ExecuteTime": {
     "end_time": "2021-05-29T13:14:25.215007Z",
     "start_time": "2021-05-29T13:14:25.210009Z"
    }
   },
   "outputs": [
    {
     "data": {
      "text/plain": [
       "-47.25"
      ]
     },
     "execution_count": 37,
     "metadata": {},
     "output_type": "execute_result"
    }
   ],
   "source": [
    "df['coluna1'].mean()"
   ]
  },
  {
   "cell_type": "code",
   "execution_count": 38,
   "metadata": {
    "ExecuteTime": {
     "end_time": "2021-05-29T13:19:57.945165Z",
     "start_time": "2021-05-29T13:19:57.932160Z"
    }
   },
   "outputs": [],
   "source": [
    "med_col1 = df['coluna1'].mean()"
   ]
  },
  {
   "cell_type": "code",
   "execution_count": 39,
   "metadata": {
    "ExecuteTime": {
     "end_time": "2021-05-29T13:20:00.068882Z",
     "start_time": "2021-05-29T13:20:00.058887Z"
    }
   },
   "outputs": [
    {
     "data": {
      "text/plain": [
       "A    -69.00\n",
       "B    -47.25\n",
       "C    -59.00\n",
       "D    -47.25\n",
       "E    -47.25\n",
       "F     84.00\n",
       "G    -47.25\n",
       "H   -145.00\n",
       "I    -47.25\n",
       "Name: coluna1, dtype: float64"
      ]
     },
     "execution_count": 39,
     "metadata": {},
     "output_type": "execute_result"
    }
   ],
   "source": [
    "df['coluna1'].fillna(med_col1)"
   ]
  },
  {
   "cell_type": "markdown",
   "metadata": {},
   "source": [
    "## Substituindo pela mediana"
   ]
  },
  {
   "cell_type": "code",
   "execution_count": 40,
   "metadata": {
    "ExecuteTime": {
     "end_time": "2021-06-06T21:14:45.257459Z",
     "start_time": "2021-06-06T21:14:45.243466Z"
    }
   },
   "outputs": [
    {
     "data": {
      "text/plain": [
       "A    -69.0\n",
       "B      NaN\n",
       "C    -59.0\n",
       "D      NaN\n",
       "E      NaN\n",
       "F     84.0\n",
       "G      NaN\n",
       "H   -145.0\n",
       "I      NaN\n",
       "Name: coluna1, dtype: float64"
      ]
     },
     "execution_count": 40,
     "metadata": {},
     "output_type": "execute_result"
    }
   ],
   "source": [
    "df['coluna1']"
   ]
  },
  {
   "cell_type": "code",
   "execution_count": 41,
   "metadata": {
    "ExecuteTime": {
     "end_time": "2021-06-06T21:14:56.142307Z",
     "start_time": "2021-06-06T21:14:56.121324Z"
    }
   },
   "outputs": [
    {
     "data": {
      "text/plain": [
       "H   -145.0\n",
       "A    -69.0\n",
       "C    -59.0\n",
       "F     84.0\n",
       "B      NaN\n",
       "D      NaN\n",
       "E      NaN\n",
       "G      NaN\n",
       "I      NaN\n",
       "Name: coluna1, dtype: float64"
      ]
     },
     "execution_count": 41,
     "metadata": {},
     "output_type": "execute_result"
    }
   ],
   "source": [
    "df['coluna1'].sort_values()"
   ]
  },
  {
   "cell_type": "code",
   "execution_count": 42,
   "metadata": {
    "ExecuteTime": {
     "end_time": "2021-06-06T21:15:32.069094Z",
     "start_time": "2021-06-06T21:15:32.056102Z"
    }
   },
   "outputs": [
    {
     "data": {
      "text/plain": [
       "-64.0"
      ]
     },
     "execution_count": 42,
     "metadata": {},
     "output_type": "execute_result"
    }
   ],
   "source": [
    "(-69.0-59.0)/2"
   ]
  },
  {
   "cell_type": "code",
   "execution_count": 43,
   "metadata": {
    "ExecuteTime": {
     "end_time": "2021-06-06T21:15:07.810981Z",
     "start_time": "2021-06-06T21:15:07.801973Z"
    }
   },
   "outputs": [
    {
     "data": {
      "text/plain": [
       "-64.0"
      ]
     },
     "execution_count": 43,
     "metadata": {},
     "output_type": "execute_result"
    }
   ],
   "source": [
    "# OBS: A mediana é o ponto médio do dado\n",
    "# Jeito fácil de calcular a mediana\n",
    "df['coluna1'].median()"
   ]
  },
  {
   "cell_type": "code",
   "execution_count": 44,
   "metadata": {
    "ExecuteTime": {
     "end_time": "2021-06-06T21:15:51.332736Z",
     "start_time": "2021-06-06T21:15:51.324736Z"
    }
   },
   "outputs": [],
   "source": [
    "mediana_col1 = df['coluna1'].median()"
   ]
  },
  {
   "cell_type": "code",
   "execution_count": 45,
   "metadata": {
    "ExecuteTime": {
     "end_time": "2021-06-06T21:15:51.490564Z",
     "start_time": "2021-06-06T21:15:51.483570Z"
    }
   },
   "outputs": [
    {
     "data": {
      "text/plain": [
       "A    -69.0\n",
       "B    -64.0\n",
       "C    -59.0\n",
       "D    -64.0\n",
       "E    -64.0\n",
       "F     84.0\n",
       "G    -64.0\n",
       "H   -145.0\n",
       "I    -64.0\n",
       "Name: coluna1, dtype: float64"
      ]
     },
     "execution_count": 45,
     "metadata": {},
     "output_type": "execute_result"
    }
   ],
   "source": [
    "df['coluna1'].fillna(mediana_col1)"
   ]
  },
  {
   "cell_type": "code",
   "execution_count": 46,
   "metadata": {
    "ExecuteTime": {
     "end_time": "2021-05-29T13:20:11.766007Z",
     "start_time": "2021-05-29T13:20:11.745019Z"
    }
   },
   "outputs": [
    {
     "data": {
      "text/plain": [
       "A    -69.0\n",
       "B    -69.0\n",
       "C    -59.0\n",
       "D    -59.0\n",
       "E    -59.0\n",
       "F     84.0\n",
       "G     84.0\n",
       "H   -145.0\n",
       "I   -145.0\n",
       "Name: coluna1, dtype: float64"
      ]
     },
     "execution_count": 46,
     "metadata": {},
     "output_type": "execute_result"
    }
   ],
   "source": [
    "df['coluna1'].fillna(method='ffill')"
   ]
  },
  {
   "cell_type": "code",
   "execution_count": 47,
   "metadata": {
    "ExecuteTime": {
     "end_time": "2021-05-29T13:21:02.649710Z",
     "start_time": "2021-05-29T13:21:02.633720Z"
    }
   },
   "outputs": [
    {
     "data": {
      "text/plain": [
       "A    -69.0\n",
       "C    -59.0\n",
       "F     84.0\n",
       "H   -145.0\n",
       "Name: coluna1, dtype: float64"
      ]
     },
     "execution_count": 47,
     "metadata": {},
     "output_type": "execute_result"
    }
   ],
   "source": [
    "df['coluna1'].dropna()"
   ]
  },
  {
   "cell_type": "code",
   "execution_count": 48,
   "metadata": {
    "ExecuteTime": {
     "end_time": "2021-05-29T13:24:21.334336Z",
     "start_time": "2021-05-29T13:24:21.322344Z"
    }
   },
   "outputs": [
    {
     "data": {
      "text/html": [
       "<div>\n",
       "<style scoped>\n",
       "    .dataframe tbody tr th:only-of-type {\n",
       "        vertical-align: middle;\n",
       "    }\n",
       "\n",
       "    .dataframe tbody tr th {\n",
       "        vertical-align: top;\n",
       "    }\n",
       "\n",
       "    .dataframe thead th {\n",
       "        text-align: right;\n",
       "    }\n",
       "</style>\n",
       "<table border=\"1\" class=\"dataframe\">\n",
       "  <thead>\n",
       "    <tr style=\"text-align: right;\">\n",
       "      <th></th>\n",
       "      <th>coluna1</th>\n",
       "      <th>coluna2</th>\n",
       "      <th>coluna3</th>\n",
       "      <th>coluna4</th>\n",
       "    </tr>\n",
       "  </thead>\n",
       "  <tbody>\n",
       "    <tr>\n",
       "      <th>A</th>\n",
       "      <td>-69.0</td>\n",
       "      <td>-174.986132</td>\n",
       "      <td>-203.24109550481583</td>\n",
       "      <td>167.651645</td>\n",
       "    </tr>\n",
       "    <tr>\n",
       "      <th>C</th>\n",
       "      <td>-59.0</td>\n",
       "      <td>59.896312</td>\n",
       "      <td>-111.21779079311563</td>\n",
       "      <td>-101.685820</td>\n",
       "    </tr>\n",
       "    <tr>\n",
       "      <th>F</th>\n",
       "      <td>84.0</td>\n",
       "      <td>199.826939</td>\n",
       "      <td>-101.26850129528515</td>\n",
       "      <td>129.207003</td>\n",
       "    </tr>\n",
       "    <tr>\n",
       "      <th>H</th>\n",
       "      <td>-145.0</td>\n",
       "      <td>91.317843</td>\n",
       "      <td>9.811846029854442</td>\n",
       "      <td>-121.470039</td>\n",
       "    </tr>\n",
       "  </tbody>\n",
       "</table>\n",
       "</div>"
      ],
      "text/plain": [
       "   coluna1     coluna2              coluna3     coluna4\n",
       "A    -69.0 -174.986132  -203.24109550481583  167.651645\n",
       "C    -59.0   59.896312  -111.21779079311563 -101.685820\n",
       "F     84.0  199.826939  -101.26850129528515  129.207003\n",
       "H   -145.0   91.317843    9.811846029854442 -121.470039"
      ]
     },
     "execution_count": 48,
     "metadata": {},
     "output_type": "execute_result"
    }
   ],
   "source": [
    "# dropar todas as linhas que tenha pelo menos 1 NA\n",
    "df.dropna()"
   ]
  },
  {
   "cell_type": "markdown",
   "metadata": {},
   "source": [
    "# 5. Dados duplicados <a name=\"duplicados\"></a>\n",
    "<div style=\"text-align: right\"\n",
    "     \n",
    "[Voltar ao índice](#Contents)"
   ]
  },
  {
   "cell_type": "code",
   "execution_count": 3,
   "metadata": {
    "ExecuteTime": {
     "end_time": "2021-05-29T13:27:46.263931Z",
     "start_time": "2021-05-29T13:27:46.244941Z"
    }
   },
   "outputs": [
    {
     "data": {
      "text/html": [
       "<div>\n",
       "<style scoped>\n",
       "    .dataframe tbody tr th:only-of-type {\n",
       "        vertical-align: middle;\n",
       "    }\n",
       "\n",
       "    .dataframe tbody tr th {\n",
       "        vertical-align: top;\n",
       "    }\n",
       "\n",
       "    .dataframe thead th {\n",
       "        text-align: right;\n",
       "    }\n",
       "</style>\n",
       "<table border=\"1\" class=\"dataframe\">\n",
       "  <thead>\n",
       "    <tr style=\"text-align: right;\">\n",
       "      <th></th>\n",
       "      <th>coluna1</th>\n",
       "      <th>coluna2</th>\n",
       "      <th>coluna3</th>\n",
       "      <th>coluna4</th>\n",
       "    </tr>\n",
       "  </thead>\n",
       "  <tbody>\n",
       "    <tr>\n",
       "      <th>A</th>\n",
       "      <td>-85.615599</td>\n",
       "      <td>-66.484134</td>\n",
       "      <td>-19.017714</td>\n",
       "      <td>80.203140</td>\n",
       "    </tr>\n",
       "    <tr>\n",
       "      <th>B</th>\n",
       "      <td>75.480333</td>\n",
       "      <td>120.786108</td>\n",
       "      <td>53.255812</td>\n",
       "      <td>35.460009</td>\n",
       "    </tr>\n",
       "    <tr>\n",
       "      <th>C</th>\n",
       "      <td>51.060861</td>\n",
       "      <td>-243.253872</td>\n",
       "      <td>-65.290691</td>\n",
       "      <td>177.030987</td>\n",
       "    </tr>\n",
       "    <tr>\n",
       "      <th>D</th>\n",
       "      <td>37.957375</td>\n",
       "      <td>-50.940264</td>\n",
       "      <td>-81.971112</td>\n",
       "      <td>-40.792870</td>\n",
       "    </tr>\n",
       "    <tr>\n",
       "      <th>D</th>\n",
       "      <td>37.957375</td>\n",
       "      <td>-50.940264</td>\n",
       "      <td>-81.971112</td>\n",
       "      <td>-40.792870</td>\n",
       "    </tr>\n",
       "    <tr>\n",
       "      <th>E</th>\n",
       "      <td>-18.700255</td>\n",
       "      <td>-18.102749</td>\n",
       "      <td>7.558966</td>\n",
       "      <td>-224.682700</td>\n",
       "    </tr>\n",
       "    <tr>\n",
       "      <th>E</th>\n",
       "      <td>-18.700255</td>\n",
       "      <td>-18.102749</td>\n",
       "      <td>7.558966</td>\n",
       "      <td>-224.682700</td>\n",
       "    </tr>\n",
       "    <tr>\n",
       "      <th>F</th>\n",
       "      <td>-47.211503</td>\n",
       "      <td>-23.421448</td>\n",
       "      <td>-109.834247</td>\n",
       "      <td>16.689117</td>\n",
       "    </tr>\n",
       "    <tr>\n",
       "      <th>F</th>\n",
       "      <td>-47.211503</td>\n",
       "      <td>-23.421448</td>\n",
       "      <td>-109.834247</td>\n",
       "      <td>16.689117</td>\n",
       "    </tr>\n",
       "    <tr>\n",
       "      <th>G</th>\n",
       "      <td>-50.759759</td>\n",
       "      <td>10.278219</td>\n",
       "      <td>147.501700</td>\n",
       "      <td>30.438131</td>\n",
       "    </tr>\n",
       "    <tr>\n",
       "      <th>G</th>\n",
       "      <td>-50.759759</td>\n",
       "      <td>10.278219</td>\n",
       "      <td>147.501700</td>\n",
       "      <td>30.438131</td>\n",
       "    </tr>\n",
       "    <tr>\n",
       "      <th>H</th>\n",
       "      <td>158.801867</td>\n",
       "      <td>-180.298212</td>\n",
       "      <td>136.915000</td>\n",
       "      <td>61.511512</td>\n",
       "    </tr>\n",
       "    <tr>\n",
       "      <th>H</th>\n",
       "      <td>158.801867</td>\n",
       "      <td>-180.298212</td>\n",
       "      <td>136.915000</td>\n",
       "      <td>61.511512</td>\n",
       "    </tr>\n",
       "    <tr>\n",
       "      <th>I</th>\n",
       "      <td>-86.395055</td>\n",
       "      <td>51.210380</td>\n",
       "      <td>0.568605</td>\n",
       "      <td>-32.762151</td>\n",
       "    </tr>\n",
       "  </tbody>\n",
       "</table>\n",
       "</div>"
      ],
      "text/plain": [
       "      coluna1     coluna2     coluna3     coluna4\n",
       "A  -85.615599  -66.484134  -19.017714   80.203140\n",
       "B   75.480333  120.786108   53.255812   35.460009\n",
       "C   51.060861 -243.253872  -65.290691  177.030987\n",
       "D   37.957375  -50.940264  -81.971112  -40.792870\n",
       "D   37.957375  -50.940264  -81.971112  -40.792870\n",
       "E  -18.700255  -18.102749    7.558966 -224.682700\n",
       "E  -18.700255  -18.102749    7.558966 -224.682700\n",
       "F  -47.211503  -23.421448 -109.834247   16.689117\n",
       "F  -47.211503  -23.421448 -109.834247   16.689117\n",
       "G  -50.759759   10.278219  147.501700   30.438131\n",
       "G  -50.759759   10.278219  147.501700   30.438131\n",
       "H  158.801867 -180.298212  136.915000   61.511512\n",
       "H  158.801867 -180.298212  136.915000   61.511512\n",
       "I  -86.395055   51.210380    0.568605  -32.762151"
      ]
     },
     "execution_count": 3,
     "metadata": {},
     "output_type": "execute_result"
    }
   ],
   "source": [
    "df_dup = pd.concat([df, df.loc['D':'H',:]]).sort_index()\n",
    "df_dup"
   ]
  },
  {
   "cell_type": "code",
   "execution_count": 4,
   "metadata": {
    "ExecuteTime": {
     "end_time": "2021-05-29T13:30:40.658624Z",
     "start_time": "2021-05-29T13:30:40.642623Z"
    }
   },
   "outputs": [
    {
     "data": {
      "text/html": [
       "<div>\n",
       "<style scoped>\n",
       "    .dataframe tbody tr th:only-of-type {\n",
       "        vertical-align: middle;\n",
       "    }\n",
       "\n",
       "    .dataframe tbody tr th {\n",
       "        vertical-align: top;\n",
       "    }\n",
       "\n",
       "    .dataframe thead th {\n",
       "        text-align: right;\n",
       "    }\n",
       "</style>\n",
       "<table border=\"1\" class=\"dataframe\">\n",
       "  <thead>\n",
       "    <tr style=\"text-align: right;\">\n",
       "      <th></th>\n",
       "      <th>coluna1</th>\n",
       "      <th>coluna2</th>\n",
       "      <th>coluna3</th>\n",
       "      <th>coluna4</th>\n",
       "    </tr>\n",
       "  </thead>\n",
       "  <tbody>\n",
       "    <tr>\n",
       "      <th>A</th>\n",
       "      <td>-85.615599</td>\n",
       "      <td>-66.484134</td>\n",
       "      <td>-19.017714</td>\n",
       "      <td>80.203140</td>\n",
       "    </tr>\n",
       "    <tr>\n",
       "      <th>B</th>\n",
       "      <td>75.480333</td>\n",
       "      <td>120.786108</td>\n",
       "      <td>53.255812</td>\n",
       "      <td>35.460009</td>\n",
       "    </tr>\n",
       "    <tr>\n",
       "      <th>C</th>\n",
       "      <td>51.060861</td>\n",
       "      <td>-243.253872</td>\n",
       "      <td>-65.290691</td>\n",
       "      <td>177.030987</td>\n",
       "    </tr>\n",
       "    <tr>\n",
       "      <th>D</th>\n",
       "      <td>37.957375</td>\n",
       "      <td>-50.940264</td>\n",
       "      <td>-81.971112</td>\n",
       "      <td>-40.792870</td>\n",
       "    </tr>\n",
       "    <tr>\n",
       "      <th>E</th>\n",
       "      <td>-18.700255</td>\n",
       "      <td>-18.102749</td>\n",
       "      <td>7.558966</td>\n",
       "      <td>-224.682700</td>\n",
       "    </tr>\n",
       "    <tr>\n",
       "      <th>F</th>\n",
       "      <td>-47.211503</td>\n",
       "      <td>-23.421448</td>\n",
       "      <td>-109.834247</td>\n",
       "      <td>16.689117</td>\n",
       "    </tr>\n",
       "    <tr>\n",
       "      <th>G</th>\n",
       "      <td>-50.759759</td>\n",
       "      <td>10.278219</td>\n",
       "      <td>147.501700</td>\n",
       "      <td>30.438131</td>\n",
       "    </tr>\n",
       "    <tr>\n",
       "      <th>H</th>\n",
       "      <td>158.801867</td>\n",
       "      <td>-180.298212</td>\n",
       "      <td>136.915000</td>\n",
       "      <td>61.511512</td>\n",
       "    </tr>\n",
       "    <tr>\n",
       "      <th>I</th>\n",
       "      <td>-86.395055</td>\n",
       "      <td>51.210380</td>\n",
       "      <td>0.568605</td>\n",
       "      <td>-32.762151</td>\n",
       "    </tr>\n",
       "  </tbody>\n",
       "</table>\n",
       "</div>"
      ],
      "text/plain": [
       "      coluna1     coluna2     coluna3     coluna4\n",
       "A  -85.615599  -66.484134  -19.017714   80.203140\n",
       "B   75.480333  120.786108   53.255812   35.460009\n",
       "C   51.060861 -243.253872  -65.290691  177.030987\n",
       "D   37.957375  -50.940264  -81.971112  -40.792870\n",
       "E  -18.700255  -18.102749    7.558966 -224.682700\n",
       "F  -47.211503  -23.421448 -109.834247   16.689117\n",
       "G  -50.759759   10.278219  147.501700   30.438131\n",
       "H  158.801867 -180.298212  136.915000   61.511512\n",
       "I  -86.395055   51.210380    0.568605  -32.762151"
      ]
     },
     "execution_count": 4,
     "metadata": {},
     "output_type": "execute_result"
    }
   ],
   "source": [
    "df_dup.drop_duplicates()"
   ]
  },
  {
   "cell_type": "code",
   "execution_count": 5,
   "metadata": {
    "ExecuteTime": {
     "end_time": "2021-05-29T13:30:33.567549Z",
     "start_time": "2021-05-29T13:30:33.544582Z"
    }
   },
   "outputs": [
    {
     "data": {
      "text/html": [
       "<div>\n",
       "<style scoped>\n",
       "    .dataframe tbody tr th:only-of-type {\n",
       "        vertical-align: middle;\n",
       "    }\n",
       "\n",
       "    .dataframe tbody tr th {\n",
       "        vertical-align: top;\n",
       "    }\n",
       "\n",
       "    .dataframe thead th {\n",
       "        text-align: right;\n",
       "    }\n",
       "</style>\n",
       "<table border=\"1\" class=\"dataframe\">\n",
       "  <thead>\n",
       "    <tr style=\"text-align: right;\">\n",
       "      <th></th>\n",
       "      <th>coluna1</th>\n",
       "      <th>coluna2</th>\n",
       "      <th>coluna3</th>\n",
       "      <th>coluna4</th>\n",
       "    </tr>\n",
       "  </thead>\n",
       "  <tbody>\n",
       "    <tr>\n",
       "      <th>A</th>\n",
       "      <td>-85.615599</td>\n",
       "      <td>-66.484134</td>\n",
       "      <td>-19.017714</td>\n",
       "      <td>80.203140</td>\n",
       "    </tr>\n",
       "    <tr>\n",
       "      <th>B</th>\n",
       "      <td>75.480333</td>\n",
       "      <td>120.786108</td>\n",
       "      <td>53.255812</td>\n",
       "      <td>35.460009</td>\n",
       "    </tr>\n",
       "    <tr>\n",
       "      <th>C</th>\n",
       "      <td>51.060861</td>\n",
       "      <td>-243.253872</td>\n",
       "      <td>-65.290691</td>\n",
       "      <td>177.030987</td>\n",
       "    </tr>\n",
       "    <tr>\n",
       "      <th>D</th>\n",
       "      <td>37.957375</td>\n",
       "      <td>-50.940264</td>\n",
       "      <td>-81.971112</td>\n",
       "      <td>-40.792870</td>\n",
       "    </tr>\n",
       "    <tr>\n",
       "      <th>E</th>\n",
       "      <td>-18.700255</td>\n",
       "      <td>-18.102749</td>\n",
       "      <td>7.558966</td>\n",
       "      <td>-224.682700</td>\n",
       "    </tr>\n",
       "    <tr>\n",
       "      <th>F</th>\n",
       "      <td>-47.211503</td>\n",
       "      <td>-23.421448</td>\n",
       "      <td>-109.834247</td>\n",
       "      <td>16.689117</td>\n",
       "    </tr>\n",
       "    <tr>\n",
       "      <th>G</th>\n",
       "      <td>-50.759759</td>\n",
       "      <td>10.278219</td>\n",
       "      <td>147.501700</td>\n",
       "      <td>30.438131</td>\n",
       "    </tr>\n",
       "    <tr>\n",
       "      <th>H</th>\n",
       "      <td>158.801867</td>\n",
       "      <td>-180.298212</td>\n",
       "      <td>136.915000</td>\n",
       "      <td>61.511512</td>\n",
       "    </tr>\n",
       "    <tr>\n",
       "      <th>I</th>\n",
       "      <td>-86.395055</td>\n",
       "      <td>51.210380</td>\n",
       "      <td>0.568605</td>\n",
       "      <td>-32.762151</td>\n",
       "    </tr>\n",
       "  </tbody>\n",
       "</table>\n",
       "</div>"
      ],
      "text/plain": [
       "      coluna1     coluna2     coluna3     coluna4\n",
       "A  -85.615599  -66.484134  -19.017714   80.203140\n",
       "B   75.480333  120.786108   53.255812   35.460009\n",
       "C   51.060861 -243.253872  -65.290691  177.030987\n",
       "D   37.957375  -50.940264  -81.971112  -40.792870\n",
       "E  -18.700255  -18.102749    7.558966 -224.682700\n",
       "F  -47.211503  -23.421448 -109.834247   16.689117\n",
       "G  -50.759759   10.278219  147.501700   30.438131\n",
       "H  158.801867 -180.298212  136.915000   61.511512\n",
       "I  -86.395055   51.210380    0.568605  -32.762151"
      ]
     },
     "execution_count": 5,
     "metadata": {},
     "output_type": "execute_result"
    }
   ],
   "source": [
    "df_dup.drop_duplicates(subset=['coluna1'])"
   ]
  },
  {
   "cell_type": "code",
   "execution_count": 6,
   "metadata": {
    "ExecuteTime": {
     "end_time": "2021-05-29T13:32:13.123617Z",
     "start_time": "2021-05-29T13:32:13.105619Z"
    }
   },
   "outputs": [
    {
     "data": {
      "text/plain": [
       "A    False\n",
       "B    False\n",
       "C    False\n",
       "D    False\n",
       "D     True\n",
       "E    False\n",
       "E     True\n",
       "F    False\n",
       "F     True\n",
       "G    False\n",
       "G     True\n",
       "H    False\n",
       "H     True\n",
       "I    False\n",
       "dtype: bool"
      ]
     },
     "execution_count": 6,
     "metadata": {},
     "output_type": "execute_result"
    }
   ],
   "source": [
    "df_dup.duplicated()"
   ]
  },
  {
   "cell_type": "code",
   "execution_count": 7,
   "metadata": {
    "ExecuteTime": {
     "end_time": "2021-05-29T13:31:30.812257Z",
     "start_time": "2021-05-29T13:31:30.799265Z"
    }
   },
   "outputs": [
    {
     "data": {
      "text/html": [
       "<div>\n",
       "<style scoped>\n",
       "    .dataframe tbody tr th:only-of-type {\n",
       "        vertical-align: middle;\n",
       "    }\n",
       "\n",
       "    .dataframe tbody tr th {\n",
       "        vertical-align: top;\n",
       "    }\n",
       "\n",
       "    .dataframe thead th {\n",
       "        text-align: right;\n",
       "    }\n",
       "</style>\n",
       "<table border=\"1\" class=\"dataframe\">\n",
       "  <thead>\n",
       "    <tr style=\"text-align: right;\">\n",
       "      <th></th>\n",
       "      <th>coluna1</th>\n",
       "      <th>coluna2</th>\n",
       "      <th>coluna3</th>\n",
       "      <th>coluna4</th>\n",
       "    </tr>\n",
       "  </thead>\n",
       "  <tbody>\n",
       "    <tr>\n",
       "      <th>D</th>\n",
       "      <td>37.957375</td>\n",
       "      <td>-50.940264</td>\n",
       "      <td>-81.971112</td>\n",
       "      <td>-40.792870</td>\n",
       "    </tr>\n",
       "    <tr>\n",
       "      <th>E</th>\n",
       "      <td>-18.700255</td>\n",
       "      <td>-18.102749</td>\n",
       "      <td>7.558966</td>\n",
       "      <td>-224.682700</td>\n",
       "    </tr>\n",
       "    <tr>\n",
       "      <th>F</th>\n",
       "      <td>-47.211503</td>\n",
       "      <td>-23.421448</td>\n",
       "      <td>-109.834247</td>\n",
       "      <td>16.689117</td>\n",
       "    </tr>\n",
       "    <tr>\n",
       "      <th>G</th>\n",
       "      <td>-50.759759</td>\n",
       "      <td>10.278219</td>\n",
       "      <td>147.501700</td>\n",
       "      <td>30.438131</td>\n",
       "    </tr>\n",
       "    <tr>\n",
       "      <th>H</th>\n",
       "      <td>158.801867</td>\n",
       "      <td>-180.298212</td>\n",
       "      <td>136.915000</td>\n",
       "      <td>61.511512</td>\n",
       "    </tr>\n",
       "  </tbody>\n",
       "</table>\n",
       "</div>"
      ],
      "text/plain": [
       "      coluna1     coluna2     coluna3     coluna4\n",
       "D   37.957375  -50.940264  -81.971112  -40.792870\n",
       "E  -18.700255  -18.102749    7.558966 -224.682700\n",
       "F  -47.211503  -23.421448 -109.834247   16.689117\n",
       "G  -50.759759   10.278219  147.501700   30.438131\n",
       "H  158.801867 -180.298212  136.915000   61.511512"
      ]
     },
     "execution_count": 7,
     "metadata": {},
     "output_type": "execute_result"
    }
   ],
   "source": [
    "df_dup[df_dup.duplicated()]"
   ]
  },
  {
   "cell_type": "markdown",
   "metadata": {},
   "source": [
    "# 6. Mapeamentos <a name=\"map\"></a>\n",
    "<div style=\"text-align: right\"\n",
    "     \n",
    "[Voltar ao índice](#Contents)"
   ]
  },
  {
   "cell_type": "code",
   "execution_count": 145,
   "metadata": {
    "ExecuteTime": {
     "end_time": "2021-05-29T13:42:45.956899Z",
     "start_time": "2021-05-29T13:42:45.942908Z"
    }
   },
   "outputs": [
    {
     "data": {
      "text/plain": [
       "0     1\n",
       "1     0\n",
       "2     1\n",
       "3     1\n",
       "4     1\n",
       "5     1\n",
       "6     0\n",
       "7     0\n",
       "8     0\n",
       "9     1\n",
       "10    1\n",
       "11    0\n",
       "dtype: int64"
      ]
     },
     "execution_count": 145,
     "metadata": {},
     "output_type": "execute_result"
    }
   ],
   "source": [
    "# 1 feminino, 0 masculino\n",
    "genero = pd.Series([1,0,1,1,1,1,0,0,0,1,1,0])\n",
    "genero"
   ]
  },
  {
   "cell_type": "code",
   "execution_count": 146,
   "metadata": {
    "ExecuteTime": {
     "end_time": "2021-05-29T14:05:13.576793Z",
     "start_time": "2021-05-29T14:05:13.554796Z"
    }
   },
   "outputs": [
    {
     "data": {
      "text/plain": [
       "0      Feminino\n",
       "1     Masculino\n",
       "2      Feminino\n",
       "3      Feminino\n",
       "4      Feminino\n",
       "5      Feminino\n",
       "6     Masculino\n",
       "7     Masculino\n",
       "8     Masculino\n",
       "9      Feminino\n",
       "10     Feminino\n",
       "11    Masculino\n",
       "dtype: object"
      ]
     },
     "execution_count": 146,
     "metadata": {},
     "output_type": "execute_result"
    }
   ],
   "source": [
    "genero.map({1:'Feminino', 0:'Masculino'})"
   ]
  },
  {
   "cell_type": "code",
   "execution_count": 152,
   "metadata": {
    "ExecuteTime": {
     "end_time": "2021-05-29T14:08:05.814253Z",
     "start_time": "2021-05-29T14:08:05.801261Z"
    }
   },
   "outputs": [],
   "source": [
    "genero_2 = genero.map({1:'Feminino', 0:'Masculino'})"
   ]
  },
  {
   "cell_type": "code",
   "execution_count": 147,
   "metadata": {
    "ExecuteTime": {
     "end_time": "2021-05-29T14:05:34.230006Z",
     "start_time": "2021-05-29T14:05:34.210016Z"
    }
   },
   "outputs": [
    {
     "data": {
      "text/plain": [
       "0     Feminino\n",
       "1          NaN\n",
       "2     Feminino\n",
       "3     Feminino\n",
       "4     Feminino\n",
       "5     Feminino\n",
       "6          NaN\n",
       "7          NaN\n",
       "8          NaN\n",
       "9     Feminino\n",
       "10    Feminino\n",
       "11         NaN\n",
       "dtype: object"
      ]
     },
     "execution_count": 147,
     "metadata": {},
     "output_type": "execute_result"
    }
   ],
   "source": [
    "genero.map({1:'Feminino', 2:'Masculino'})"
   ]
  },
  {
   "cell_type": "code",
   "execution_count": 153,
   "metadata": {
    "ExecuteTime": {
     "end_time": "2021-05-29T14:08:11.654002Z",
     "start_time": "2021-05-29T14:08:11.637012Z"
    }
   },
   "outputs": [
    {
     "data": {
      "text/plain": [
       "0      Genero: Feminino\n",
       "1     Genero: Masculino\n",
       "2      Genero: Feminino\n",
       "3      Genero: Feminino\n",
       "4      Genero: Feminino\n",
       "5      Genero: Feminino\n",
       "6     Genero: Masculino\n",
       "7     Genero: Masculino\n",
       "8     Genero: Masculino\n",
       "9      Genero: Feminino\n",
       "10     Genero: Feminino\n",
       "11    Genero: Masculino\n",
       "dtype: object"
      ]
     },
     "execution_count": 153,
     "metadata": {},
     "output_type": "execute_result"
    }
   ],
   "source": [
    "genero_2.map('Genero: {}'.format)"
   ]
  }
 ],
 "metadata": {
  "kernelspec": {
   "display_name": "Python 3 (ipykernel)",
   "language": "python",
   "name": "python3"
  },
  "language_info": {
   "codemirror_mode": {
    "name": "ipython",
    "version": 3
   },
   "file_extension": ".py",
   "mimetype": "text/x-python",
   "name": "python",
   "nbconvert_exporter": "python",
   "pygments_lexer": "ipython3",
   "version": "3.11.5"
  },
  "varInspector": {
   "cols": {
    "lenName": 16,
    "lenType": 16,
    "lenVar": 40
   },
   "kernels_config": {
    "python": {
     "delete_cmd_postfix": "",
     "delete_cmd_prefix": "del ",
     "library": "var_list.py",
     "varRefreshCmd": "print(var_dic_list())"
    },
    "r": {
     "delete_cmd_postfix": ") ",
     "delete_cmd_prefix": "rm(",
     "library": "var_list.r",
     "varRefreshCmd": "cat(var_dic_list()) "
    }
   },
   "types_to_exclude": [
    "module",
    "function",
    "builtin_function_or_method",
    "instance",
    "_Feature"
   ],
   "window_display": false
  }
 },
 "nbformat": 4,
 "nbformat_minor": 4
}
